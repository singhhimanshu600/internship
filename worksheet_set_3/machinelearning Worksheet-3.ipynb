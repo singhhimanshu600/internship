{
 "cells": [
  {
   "cell_type": "markdown",
   "id": "3b137a3b",
   "metadata": {},
   "source": [
    "# MACHINE LEARNING"
   ]
  },
  {
   "cell_type": "markdown",
   "id": "f317c55a",
   "metadata": {},
   "source": [
    "1-->d\n",
    "\n",
    "2-->d\n",
    "\n",
    "3-->c\n",
    "\n",
    "4-->b\n",
    "\n",
    "5-->d\n",
    "\n",
    "6-->c\n",
    "\n",
    "7-->b\n",
    "\n",
    "8-->b\n",
    "\n",
    "9-->a\n",
    "\n",
    "10-->b\n",
    "\n",
    "11-->\n",
    "\n",
    "12-->\n",
    "\n"
   ]
  },
  {
   "cell_type": "markdown",
   "id": "377cdf45",
   "metadata": {},
   "source": [
    "### Ans.13"
   ]
  },
  {
   "cell_type": "markdown",
   "id": "01dbbc4c",
   "metadata": {},
   "source": [
    "The process of combining a set of physical or abstract objects into classes of the same objects is known as clustering. A cluster is a set of data objects that are the same as one another within the same cluster and are disparate from the objects in other clusters. A cluster of data objects can be considered collectively as one group in several applications. Cluster analysis is an essential human activity.Clustering has a myriad of uses in a variety of industries. Some common applications for clustering include the following:\n",
    "\n",
    "market segmentation\n",
    "\n",
    "social network analysis\n",
    "\n",
    "search result grouping\n",
    "\n",
    "medical imaging\n",
    "\n",
    "image segmentation\n",
    "\n",
    "anomaly detection\n",
    "\n"
   ]
  },
  {
   "cell_type": "markdown",
   "id": "56925f12",
   "metadata": {},
   "source": [
    "#### Ans.14"
   ]
  },
  {
   "cell_type": "markdown",
   "id": "9f73b30a",
   "metadata": {},
   "source": [
    ".Be sure that the shards are distributed evenly across the data nodes for the index that you're ingesting into ...\n",
    "\n",
    ".Increase the refresh_interval to 60 seconds or more ...\n",
    "\n",
    ".Change the replica count to zero ...\n",
    ".Experiment to find the optimal bulk request size ...\n",
    "\n",
    ".Use an instance type that has SSD instance store volumes (such as I3) ...\n",
    "\n",
    ".Reduce response size ..."
   ]
  },
  {
   "cell_type": "code",
   "execution_count": null,
   "id": "0f31177d",
   "metadata": {},
   "outputs": [],
   "source": []
  },
  {
   "cell_type": "code",
   "execution_count": null,
   "id": "316b7ca0",
   "metadata": {},
   "outputs": [],
   "source": []
  }
 ],
 "metadata": {
  "kernelspec": {
   "display_name": "Python 3 (ipykernel)",
   "language": "python",
   "name": "python3"
  },
  "language_info": {
   "codemirror_mode": {
    "name": "ipython",
    "version": 3
   },
   "file_extension": ".py",
   "mimetype": "text/x-python",
   "name": "python",
   "nbconvert_exporter": "python",
   "pygments_lexer": "ipython3",
   "version": "3.9.7"
  }
 },
 "nbformat": 4,
 "nbformat_minor": 5
}
