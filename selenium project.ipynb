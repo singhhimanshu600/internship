{
 "cells": [
  {
   "cell_type": "code",
   "execution_count": null,
   "id": "9ff54918",
   "metadata": {},
   "outputs": [],
   "source": [
    "!pip install selenium"
   ]
  },
  {
   "cell_type": "markdown",
   "id": "c8f43474",
   "metadata": {},
   "source": [
    "# Q--1"
   ]
  },
  {
   "cell_type": "code",
   "execution_count": null,
   "id": "d4d8238b",
   "metadata": {},
   "outputs": [],
   "source": []
  },
  {
   "cell_type": "code",
   "execution_count": 1,
   "id": "93a207aa",
   "metadata": {},
   "outputs": [],
   "source": [
    "import selenium\n",
    "import pandas as pd\n",
    "from selenium import webdriver\n",
    "import warnings\n",
    "warnings.filterwarnings('ignore')\n",
    "from selenium.common.exceptions import StaleElementReferenceException,NoSuchElementException\n",
    "from selenium.webdriver.common.by import By\n",
    "import time"
   ]
  },
  {
   "cell_type": "code",
   "execution_count": 2,
   "id": "e698b8f8",
   "metadata": {},
   "outputs": [],
   "source": [
    "#connect to the webdriver\n",
    "driver=webdriver.Chrome(r\"C:\\Users\\singh\\Downloads\\chromedriver_win32\\chromedriver.exe\")"
   ]
  },
  {
   "cell_type": "code",
   "execution_count": 3,
   "id": "9106237f",
   "metadata": {},
   "outputs": [],
   "source": [
    "#open the page in chromebrowser\n",
    "driver.get('https://www.naukri.com/')"
   ]
  },
  {
   "cell_type": "code",
   "execution_count": 4,
   "id": "67f15485",
   "metadata": {},
   "outputs": [],
   "source": [
    "#entering designation and loaction as required in the question\n",
    "designation=driver.find_element(By.CLASS_NAME,\"suggestor-input \")\n",
    "designation.send_keys('Data Analyst')"
   ]
  },
  {
   "cell_type": "code",
   "execution_count": 5,
   "id": "54471d82",
   "metadata": {},
   "outputs": [],
   "source": [
    "location=driver.find_element(By.XPATH,\"/html/body/div[1]/div[6]/div/div/div[5]/div/div/div/input\")\n",
    "location.send_keys('Bangalore')"
   ]
  },
  {
   "cell_type": "code",
   "execution_count": 6,
   "id": "8c5ce392",
   "metadata": {},
   "outputs": [],
   "source": [
    "search=driver.find_element(By.CLASS_NAME,'qsbSubmit')\n",
    "search.click()"
   ]
  },
  {
   "cell_type": "code",
   "execution_count": 7,
   "id": "5097179b",
   "metadata": {},
   "outputs": [],
   "source": [
    "job_title=[]\n",
    "job_location=[]\n",
    "company_name=[]\n",
    "experience_required=[]"
   ]
  },
  {
   "cell_type": "code",
   "execution_count": 10,
   "id": "6e448096",
   "metadata": {},
   "outputs": [],
   "source": [
    "#scraping job title from given page\n",
    "title_tags=driver.find_elements(By.XPATH,'//a[@class=\"title fw500 ellipsis\"]')\n",
    "for i in title_tags[0:10]:\n",
    "    title=i.text\n",
    "    job_title.append(title)\n",
    "    \n",
    "#scraping job location  from given page\n",
    "location_tags=driver.find_elements(By.XPATH,'//li[@class=\"fleft grey-text br2 placeHolderLi location\"]')\n",
    "for i in location_tags[0:10]:\n",
    "    location=i.text\n",
    "    job_location.append(location)\n",
    "    \n",
    "#scraping company name from given page\n",
    "company_tags=driver.find_elements(By.XPATH,'//a[@class=\"subTitle ellipsis fleft\"]')\n",
    "for i in company_tags[0:10]:\n",
    "    company=i.text\n",
    "    company_name.append(company)\n",
    "    \n",
    "#scraping job experience from given page\n",
    "experience_tags=driver.find_elements(By.XPATH,'//li[@class=\"fleft grey-text br2 placeHolderLi experience\"]')\n",
    "for i in experience_tags[0:10]:\n",
    "    experience=i.text\n",
    "    experience_required.append(experience)"
   ]
  },
  {
   "cell_type": "code",
   "execution_count": 11,
   "id": "ceb85b9a",
   "metadata": {},
   "outputs": [
    {
     "name": "stdout",
     "output_type": "stream",
     "text": [
      "10 10 10 10\n"
     ]
    }
   ],
   "source": [
    "print(len(job_title),len(job_location),len(company_name),len(experience_required))"
   ]
  },
  {
   "cell_type": "code",
   "execution_count": 12,
   "id": "a32de228",
   "metadata": {},
   "outputs": [],
   "source": [
    "#creating a dataframe from above data\n",
    "df=pd.DataFrame({'JOB_TITLE':job_title,'JOB_LOCATION':job_location,'COMPANY_NAME':company_name,'EXPERIENCE_REQUIRED':experience_required})"
   ]
  },
  {
   "cell_type": "code",
   "execution_count": 13,
   "id": "18685447",
   "metadata": {},
   "outputs": [
    {
     "data": {
      "text/html": [
       "<div>\n",
       "<style scoped>\n",
       "    .dataframe tbody tr th:only-of-type {\n",
       "        vertical-align: middle;\n",
       "    }\n",
       "\n",
       "    .dataframe tbody tr th {\n",
       "        vertical-align: top;\n",
       "    }\n",
       "\n",
       "    .dataframe thead th {\n",
       "        text-align: right;\n",
       "    }\n",
       "</style>\n",
       "<table border=\"1\" class=\"dataframe\">\n",
       "  <thead>\n",
       "    <tr style=\"text-align: right;\">\n",
       "      <th></th>\n",
       "      <th>JOB_TITLE</th>\n",
       "      <th>JOB_LOCATION</th>\n",
       "      <th>COMPANY_NAME</th>\n",
       "      <th>EXPERIENCE_REQUIRED</th>\n",
       "    </tr>\n",
       "  </thead>\n",
       "  <tbody>\n",
       "    <tr>\n",
       "      <th>0</th>\n",
       "      <td>Senior Data Analyst</td>\n",
       "      <td>Bangalore/Bengaluru</td>\n",
       "      <td>Optum</td>\n",
       "      <td>5-10 Yrs</td>\n",
       "    </tr>\n",
       "    <tr>\n",
       "      <th>1</th>\n",
       "      <td>Data Analyst - CRM Platform</td>\n",
       "      <td>Bangalore/Bengaluru, Mumbai, Hyderabad/Secunde...</td>\n",
       "      <td>Artech infosystem</td>\n",
       "      <td>1-6 Yrs</td>\n",
       "    </tr>\n",
       "    <tr>\n",
       "      <th>2</th>\n",
       "      <td>Contractual Hiring For Top MNC || Business Dat...</td>\n",
       "      <td>Bangalore/Bengaluru</td>\n",
       "      <td>TeamLease</td>\n",
       "      <td>5-8 Yrs</td>\n",
       "    </tr>\n",
       "    <tr>\n",
       "      <th>3</th>\n",
       "      <td>Associate Data Analyst, Connect</td>\n",
       "      <td>Bangalore/Bengaluru</td>\n",
       "      <td>Yara Communications</td>\n",
       "      <td>0-2 Yrs</td>\n",
       "    </tr>\n",
       "    <tr>\n",
       "      <th>4</th>\n",
       "      <td>Senior Data Analyst</td>\n",
       "      <td>Bangalore/Bengaluru</td>\n",
       "      <td>Yara Communications</td>\n",
       "      <td>5-7 Yrs</td>\n",
       "    </tr>\n",
       "    <tr>\n",
       "      <th>5</th>\n",
       "      <td>HCL hiring For Data Analyst</td>\n",
       "      <td>Bangalore/Bengaluru, Pune, Chennai</td>\n",
       "      <td>HCL Technologies</td>\n",
       "      <td>3-8 Yrs</td>\n",
       "    </tr>\n",
       "    <tr>\n",
       "      <th>6</th>\n",
       "      <td>Sr. Data Analyst</td>\n",
       "      <td>Bangalore/Bengaluru, Pune</td>\n",
       "      <td>Global Indian School Education Services</td>\n",
       "      <td>6-11 Yrs</td>\n",
       "    </tr>\n",
       "    <tr>\n",
       "      <th>7</th>\n",
       "      <td>Data Analyst - FinTech</td>\n",
       "      <td>Bangalore/Bengaluru, Mumbai, Hyderabad/Secunde...</td>\n",
       "      <td>Primo Hiring</td>\n",
       "      <td>1-2 Yrs</td>\n",
       "    </tr>\n",
       "    <tr>\n",
       "      <th>8</th>\n",
       "      <td>Assistant Manager/Manager - Data Analyst - Ana...</td>\n",
       "      <td>Bangalore/Bengaluru, Delhi / NCR</td>\n",
       "      <td>Huquo Consulting Pvt. Ltd</td>\n",
       "      <td>6-11 Yrs</td>\n",
       "    </tr>\n",
       "    <tr>\n",
       "      <th>9</th>\n",
       "      <td>Python Data Analyst - WFH</td>\n",
       "      <td>Remote</td>\n",
       "      <td>hCapital Business Consulting Private Limited</td>\n",
       "      <td>4-9 Yrs</td>\n",
       "    </tr>\n",
       "  </tbody>\n",
       "</table>\n",
       "</div>"
      ],
      "text/plain": [
       "                                           JOB_TITLE  \\\n",
       "0                                Senior Data Analyst   \n",
       "1                        Data Analyst - CRM Platform   \n",
       "2  Contractual Hiring For Top MNC || Business Dat...   \n",
       "3                    Associate Data Analyst, Connect   \n",
       "4                                Senior Data Analyst   \n",
       "5                        HCL hiring For Data Analyst   \n",
       "6                                   Sr. Data Analyst   \n",
       "7                             Data Analyst - FinTech   \n",
       "8  Assistant Manager/Manager - Data Analyst - Ana...   \n",
       "9                          Python Data Analyst - WFH   \n",
       "\n",
       "                                        JOB_LOCATION  \\\n",
       "0                                Bangalore/Bengaluru   \n",
       "1  Bangalore/Bengaluru, Mumbai, Hyderabad/Secunde...   \n",
       "2                                Bangalore/Bengaluru   \n",
       "3                                Bangalore/Bengaluru   \n",
       "4                                Bangalore/Bengaluru   \n",
       "5                 Bangalore/Bengaluru, Pune, Chennai   \n",
       "6                          Bangalore/Bengaluru, Pune   \n",
       "7  Bangalore/Bengaluru, Mumbai, Hyderabad/Secunde...   \n",
       "8                   Bangalore/Bengaluru, Delhi / NCR   \n",
       "9                                             Remote   \n",
       "\n",
       "                                   COMPANY_NAME EXPERIENCE_REQUIRED  \n",
       "0                                         Optum            5-10 Yrs  \n",
       "1                             Artech infosystem             1-6 Yrs  \n",
       "2                                     TeamLease             5-8 Yrs  \n",
       "3                           Yara Communications             0-2 Yrs  \n",
       "4                           Yara Communications             5-7 Yrs  \n",
       "5                              HCL Technologies             3-8 Yrs  \n",
       "6       Global Indian School Education Services            6-11 Yrs  \n",
       "7                                  Primo Hiring             1-2 Yrs  \n",
       "8                     Huquo Consulting Pvt. Ltd            6-11 Yrs  \n",
       "9  hCapital Business Consulting Private Limited             4-9 Yrs  "
      ]
     },
     "execution_count": 13,
     "metadata": {},
     "output_type": "execute_result"
    }
   ],
   "source": [
    "df"
   ]
  },
  {
   "cell_type": "code",
   "execution_count": null,
   "id": "6a7dd0c6",
   "metadata": {},
   "outputs": [],
   "source": []
  },
  {
   "cell_type": "markdown",
   "id": "3f8c3319",
   "metadata": {},
   "source": [
    "# Q-2"
   ]
  },
  {
   "cell_type": "code",
   "execution_count": 14,
   "id": "656c19dd",
   "metadata": {},
   "outputs": [],
   "source": [
    "import selenium\n",
    "import pandas as pd\n",
    "from selenium import webdriver\n",
    "import warnings\n",
    "warnings.filterwarnings('ignore')\n",
    "from selenium.common.exceptions import StaleElementReferenceException,NoSuchElementException\n",
    "from selenium.webdriver.common.by import By\n",
    "import time"
   ]
  },
  {
   "cell_type": "code",
   "execution_count": 15,
   "id": "57a216ae",
   "metadata": {},
   "outputs": [],
   "source": [
    "driver=webdriver.Chrome(r\"C:\\Users\\singh\\Downloads\\chromedriver_win32\\chromedriver.exe\")"
   ]
  },
  {
   "cell_type": "code",
   "execution_count": 16,
   "id": "96e45597",
   "metadata": {},
   "outputs": [],
   "source": [
    "driver.get(\"https://www.naukri.com/\")"
   ]
  },
  {
   "cell_type": "code",
   "execution_count": 17,
   "id": "81ff85a5",
   "metadata": {},
   "outputs": [],
   "source": [
    "designation=driver.find_element(By.CLASS_NAME,\"suggestor-input\")\n",
    "designation.send_keys('Data Scientist')"
   ]
  },
  {
   "cell_type": "code",
   "execution_count": 18,
   "id": "b07191a8",
   "metadata": {},
   "outputs": [],
   "source": [
    "location=driver.find_element(By.XPATH,\"/html/body/div[1]/div[6]/div/div/div[5]/div/div/div/input\")\n",
    "location.send_keys('Bangalore')"
   ]
  },
  {
   "cell_type": "code",
   "execution_count": 19,
   "id": "4d76cabc",
   "metadata": {},
   "outputs": [],
   "source": [
    "search=driver.find_element(By.CLASS_NAME,\"qsbSubmit\")\n",
    "search.click()"
   ]
  },
  {
   "cell_type": "code",
   "execution_count": 20,
   "id": "b9df7cbc",
   "metadata": {},
   "outputs": [],
   "source": [
    "job_title=[]\n",
    "job_location=[]\n",
    "company_name=[]"
   ]
  },
  {
   "cell_type": "code",
   "execution_count": 21,
   "id": "5a9f627d",
   "metadata": {},
   "outputs": [],
   "source": [
    "#scraping job title from page\n",
    "title_tags=driver.find_elements(By.XPATH,'//a[@class=\"title fw500 ellipsis\"]')\n",
    "for i in title_tags:\n",
    "    title=i.text\n",
    "    job_title.append(title)"
   ]
  },
  {
   "cell_type": "code",
   "execution_count": 22,
   "id": "f475cc64",
   "metadata": {},
   "outputs": [],
   "source": [
    "#scraping job location from page\n",
    "job_tags=driver.find_elements(By.XPATH,'//li[@class=\"fleft grey-text br2 placeHolderLi location\"]')\n",
    "for i in job_tags:\n",
    "    job=i.text\n",
    "    job_location.append(job)"
   ]
  },
  {
   "cell_type": "code",
   "execution_count": 23,
   "id": "95fe9085",
   "metadata": {},
   "outputs": [],
   "source": [
    "#scraping company name from web page\n",
    "company_tags=driver.find_elements(By.XPATH,'//a[@class=\"subTitle ellipsis fleft\"]')\n",
    "for i in company_tags:\n",
    "    company=i.text\n",
    "    company_name.append(company)"
   ]
  },
  {
   "cell_type": "code",
   "execution_count": 24,
   "id": "96af602e",
   "metadata": {},
   "outputs": [],
   "source": [
    "df=pd.DataFrame({'JOB_TITLE':job_title[:10],'JOB_LOCATION':job_location[:10],'COMPANY_NAME':company_name[:10]})"
   ]
  },
  {
   "cell_type": "code",
   "execution_count": 25,
   "id": "cb52200b",
   "metadata": {},
   "outputs": [
    {
     "data": {
      "text/html": [
       "<div>\n",
       "<style scoped>\n",
       "    .dataframe tbody tr th:only-of-type {\n",
       "        vertical-align: middle;\n",
       "    }\n",
       "\n",
       "    .dataframe tbody tr th {\n",
       "        vertical-align: top;\n",
       "    }\n",
       "\n",
       "    .dataframe thead th {\n",
       "        text-align: right;\n",
       "    }\n",
       "</style>\n",
       "<table border=\"1\" class=\"dataframe\">\n",
       "  <thead>\n",
       "    <tr style=\"text-align: right;\">\n",
       "      <th></th>\n",
       "      <th>JOB_TITLE</th>\n",
       "      <th>JOB_LOCATION</th>\n",
       "      <th>COMPANY_NAME</th>\n",
       "    </tr>\n",
       "  </thead>\n",
       "  <tbody>\n",
       "    <tr>\n",
       "      <th>0</th>\n",
       "      <td>Analystics &amp; Modeling Specialist</td>\n",
       "      <td>Bangalore/Bengaluru, Kolkata, Mumbai, Hyderaba...</td>\n",
       "      <td>Accenture</td>\n",
       "    </tr>\n",
       "    <tr>\n",
       "      <th>1</th>\n",
       "      <td>Job Opportunity on Data Science_ Python with T...</td>\n",
       "      <td>Bangalore/Bengaluru, Kolkata, Hyderabad/Secund...</td>\n",
       "      <td>Tech Mahindra</td>\n",
       "    </tr>\n",
       "    <tr>\n",
       "      <th>2</th>\n",
       "      <td>Assistant Manager - Data Science</td>\n",
       "      <td>Bangalore/Bengaluru, Mumbai, Pune</td>\n",
       "      <td>CitiusTech</td>\n",
       "    </tr>\n",
       "    <tr>\n",
       "      <th>3</th>\n",
       "      <td>Hiring For DATA Scientist @ NTT DATA Business ...</td>\n",
       "      <td>Bangalore/Bengaluru, Noida, Hyderabad/Secunder...</td>\n",
       "      <td>NTT DATA Business Solutions Private Limited</td>\n",
       "    </tr>\n",
       "    <tr>\n",
       "      <th>4</th>\n",
       "      <td>Data Scientist/AIML Engineer</td>\n",
       "      <td>Bangalore/Bengaluru, Mumbai, Hyderabad/Secunde...</td>\n",
       "      <td>upGrad</td>\n",
       "    </tr>\n",
       "    <tr>\n",
       "      <th>5</th>\n",
       "      <td>ACN - Applied Intelligence - C4DI - Sustainabi...</td>\n",
       "      <td>Bangalore/Bengaluru</td>\n",
       "      <td>Accenture</td>\n",
       "    </tr>\n",
       "    <tr>\n",
       "      <th>6</th>\n",
       "      <td>Hiring Data Science Intern - DataTrained Educa...</td>\n",
       "      <td>Bangalore/Bengaluru, Noida, Kolkata, Hyderabad...</td>\n",
       "      <td>DataTrained</td>\n",
       "    </tr>\n",
       "    <tr>\n",
       "      <th>7</th>\n",
       "      <td>Lead ML Scientist</td>\n",
       "      <td>Bangalore/Bengaluru, Mumbai</td>\n",
       "      <td>Fractal Analytics</td>\n",
       "    </tr>\n",
       "    <tr>\n",
       "      <th>8</th>\n",
       "      <td>Tcs Hiring For Data Scientist</td>\n",
       "      <td>Bangalore/Bengaluru, Chennai, Mumbai (All Areas)</td>\n",
       "      <td>TATA CONSULTANCY SERVICES (TCS)</td>\n",
       "    </tr>\n",
       "    <tr>\n",
       "      <th>9</th>\n",
       "      <td>Data Scientist - II</td>\n",
       "      <td>Bangalore/Bengaluru, India, Mumbai (All Areas)</td>\n",
       "      <td>Bizongo</td>\n",
       "    </tr>\n",
       "  </tbody>\n",
       "</table>\n",
       "</div>"
      ],
      "text/plain": [
       "                                           JOB_TITLE  \\\n",
       "0                   Analystics & Modeling Specialist   \n",
       "1  Job Opportunity on Data Science_ Python with T...   \n",
       "2                   Assistant Manager - Data Science   \n",
       "3  Hiring For DATA Scientist @ NTT DATA Business ...   \n",
       "4                       Data Scientist/AIML Engineer   \n",
       "5  ACN - Applied Intelligence - C4DI - Sustainabi...   \n",
       "6  Hiring Data Science Intern - DataTrained Educa...   \n",
       "7                                  Lead ML Scientist   \n",
       "8                      Tcs Hiring For Data Scientist   \n",
       "9                                Data Scientist - II   \n",
       "\n",
       "                                        JOB_LOCATION  \\\n",
       "0  Bangalore/Bengaluru, Kolkata, Mumbai, Hyderaba...   \n",
       "1  Bangalore/Bengaluru, Kolkata, Hyderabad/Secund...   \n",
       "2                  Bangalore/Bengaluru, Mumbai, Pune   \n",
       "3  Bangalore/Bengaluru, Noida, Hyderabad/Secunder...   \n",
       "4  Bangalore/Bengaluru, Mumbai, Hyderabad/Secunde...   \n",
       "5                                Bangalore/Bengaluru   \n",
       "6  Bangalore/Bengaluru, Noida, Kolkata, Hyderabad...   \n",
       "7                        Bangalore/Bengaluru, Mumbai   \n",
       "8   Bangalore/Bengaluru, Chennai, Mumbai (All Areas)   \n",
       "9     Bangalore/Bengaluru, India, Mumbai (All Areas)   \n",
       "\n",
       "                                  COMPANY_NAME  \n",
       "0                                    Accenture  \n",
       "1                                Tech Mahindra  \n",
       "2                                   CitiusTech  \n",
       "3  NTT DATA Business Solutions Private Limited  \n",
       "4                                       upGrad  \n",
       "5                                    Accenture  \n",
       "6                                  DataTrained  \n",
       "7                            Fractal Analytics  \n",
       "8              TATA CONSULTANCY SERVICES (TCS)  \n",
       "9                                      Bizongo  "
      ]
     },
     "execution_count": 25,
     "metadata": {},
     "output_type": "execute_result"
    }
   ],
   "source": [
    "df"
   ]
  },
  {
   "cell_type": "code",
   "execution_count": null,
   "id": "3d100a5d",
   "metadata": {},
   "outputs": [],
   "source": []
  },
  {
   "cell_type": "markdown",
   "id": "8330d1e0",
   "metadata": {},
   "source": [
    "# Q--3"
   ]
  },
  {
   "cell_type": "code",
   "execution_count": 39,
   "id": "045cd693",
   "metadata": {},
   "outputs": [],
   "source": [
    "#import libraries\n",
    "import selenium\n",
    "import pandas as pd\n",
    "from selenium import webdriver\n",
    "import warnings\n",
    "warnings.filterwarnings('ignore')\n",
    "from selenium.common.exceptions import StaleElementReferenceException,NoSuchElementException\n",
    "from selenium.webdriver.common.by import By\n",
    "import time"
   ]
  },
  {
   "cell_type": "code",
   "execution_count": 40,
   "id": "7f237caa",
   "metadata": {},
   "outputs": [],
   "source": [
    "#connect to the webdriver\n",
    "driver=webdriver.Chrome(r\"C:\\Users\\singh\\Downloads\\chromedriver_win32\\chromedriver.exe\")"
   ]
  },
  {
   "cell_type": "code",
   "execution_count": 41,
   "id": "849b5eb5",
   "metadata": {},
   "outputs": [],
   "source": [
    "driver.get('https://www.naukri.com/')"
   ]
  },
  {
   "cell_type": "code",
   "execution_count": 42,
   "id": "ca198815",
   "metadata": {},
   "outputs": [],
   "source": [
    "#entering designation as required in question\n",
    "designation=driver.find_element(By.CLASS_NAME,\"suggestor-input \")\n",
    "designation.send_keys('Data Scientist')"
   ]
  },
  {
   "cell_type": "code",
   "execution_count": 43,
   "id": "c2b51a11",
   "metadata": {},
   "outputs": [],
   "source": [
    "#click on search button to open designation\n",
    "search=driver.find_element(By.CLASS_NAME,\"qsbSubmit\")\n",
    "search.click()"
   ]
  },
  {
   "cell_type": "code",
   "execution_count": 44,
   "id": "b94793b8",
   "metadata": {},
   "outputs": [],
   "source": [
    "#APPLYING LOCATION FILTER\n",
    "location_filter=driver.find_elements(By.XPATH,\"/html/body/div[1]/div[4]/div/section[1]/div[2]/div[5]/div[2]/div[3]\")\n",
    "for i in location_filter:\n",
    "    i.click()"
   ]
  },
  {
   "cell_type": "code",
   "execution_count": 45,
   "id": "b12970a8",
   "metadata": {},
   "outputs": [],
   "source": [
    "#APPLYING salary filter\n",
    "salary_filter=driver.find_elements(By.XPATH,\"/html/body/div[1]/div[4]/div/section[1]/div[2]/div[6]/div[2]/div[2]\")\n",
    "for i in salary_filter:\n",
    "    i.click()"
   ]
  },
  {
   "cell_type": "code",
   "execution_count": 50,
   "id": "311f5a57",
   "metadata": {},
   "outputs": [],
   "source": [
    "job_title=[]\n",
    "job_location=[]\n",
    "company_name=[]\n",
    "experience_required=[]\n",
    "salary_offered=[]"
   ]
  },
  {
   "cell_type": "code",
   "execution_count": 51,
   "id": "208823f3",
   "metadata": {},
   "outputs": [],
   "source": [
    "#scrapping job title from given page\n",
    "title_tag=driver.find_elements(By.XPATH,'//a[@class=\"title fw500 ellipsis\"]')\n",
    "for i in title_tag[0:10]:\n",
    "    title=i.text\n",
    "    job_title.append(title)\n",
    "\n",
    "#scraping job location\n",
    "location_tag=driver.find_elements(By.XPATH,'//li[@class=\"fleft grey-text br2 placeHolderLi location\"]')\n",
    "for i in location_tag[0:10]:\n",
    "    location=i.text\n",
    "    job_location.append(location)\n",
    "    \n",
    "#Scraping Company Name\n",
    "compnay_tag=driver.find_elements(By.XPATH,'//a[@class=\"subTitle ellipsis fleft\"]')\n",
    "for i in compnay_tag[:10]:\n",
    "    company=i.text\n",
    "    company_name.append(company)\n",
    "    \n",
    "#Scrapping Experience Required\n",
    "experience_tag=driver.find_elements(By.XPATH,'//li[@class=\"fleft grey-text br2 placeHolderLi experience\"]')\n",
    "for i in experience_tag[:10]:\n",
    "    experience=i.text\n",
    "    experience_required.append(experience)\n",
    "    \n",
    "    \n",
    "#scrap to salary is not given in question but i scrap salary for self practice\n",
    "salary_tag=driver.find_elements(By.XPATH,'//li[@class=\"fleft grey-text br2 placeHolderLi salary\"]')\n",
    "for i in salary_tag[:10]:\n",
    "    salary=i.text\n",
    "    salary_offered.append(salary)"
   ]
  },
  {
   "cell_type": "code",
   "execution_count": 48,
   "id": "e02da80e",
   "metadata": {},
   "outputs": [],
   "source": [
    "#scrapping job title from given page\n",
    "title_tag=driver.find_elements(By.XPATH,'//a[@class=\"title fw500 ellipsis\"]')\n",
    "for i in title_tag[0:10]:\n",
    "    title=i.text\n",
    "    job_title.append(title)\n",
    "\n",
    "#scraping job location\n",
    "location_tag=driver.find_elements(By.XPATH,'//li[@class=\"fleft grey-text br2 placeHolderLi location\"]')\n",
    "for i in location_tag[0:10]:\n",
    "    location=i.text\n",
    "    job_location.append(location)\n",
    "    \n",
    "#Scraping Company Name\n",
    "compnay_tag=driver.find_elements(By.XPATH,'//a[@class=\"subTitle ellipsis fleft\"]')\n",
    "for i in compnay_tag[:10]:\n",
    "    company=i.text\n",
    "    company_name.append(company)\n",
    "    \n",
    "#Scrapping Experience Required\n",
    "experience_tag=driver.find_elements(By.XPATH,'//li[@class=\"fleft grey-text br2 placeHolderLi experience\"]')\n",
    "for i in experience_tag[:10]:\n",
    "    experience=i.text\n",
    "    experience_required.append(experience)\n",
    "    \n",
    "    \n",
    "#scrap to salary is not given in question but i scrap salary for self practice\n",
    "salary_tag=driver.find_elements(By.XPATH,'//li[@class=\"fleft grey-text br2 placeHolderLi salary\"]')\n",
    "for i in salary_tag[:10]:\n",
    "    salary=i.text\n",
    "    salary_offered.append(salary)"
   ]
  },
  {
   "cell_type": "code",
   "execution_count": 52,
   "id": "9e72c308",
   "metadata": {},
   "outputs": [
    {
     "name": "stdout",
     "output_type": "stream",
     "text": [
      "10 10 10 10 10\n"
     ]
    }
   ],
   "source": [
    "print(len(job_title),len(job_location),len(company_name),len(experience_required),len(salary_offered))"
   ]
  },
  {
   "cell_type": "code",
   "execution_count": 53,
   "id": "10efb444",
   "metadata": {},
   "outputs": [
    {
     "data": {
      "text/html": [
       "<div>\n",
       "<style scoped>\n",
       "    .dataframe tbody tr th:only-of-type {\n",
       "        vertical-align: middle;\n",
       "    }\n",
       "\n",
       "    .dataframe tbody tr th {\n",
       "        vertical-align: top;\n",
       "    }\n",
       "\n",
       "    .dataframe thead th {\n",
       "        text-align: right;\n",
       "    }\n",
       "</style>\n",
       "<table border=\"1\" class=\"dataframe\">\n",
       "  <thead>\n",
       "    <tr style=\"text-align: right;\">\n",
       "      <th></th>\n",
       "      <th>JOB_TITLE</th>\n",
       "      <th>Job_LOCATION</th>\n",
       "      <th>COMPANY_NAME</th>\n",
       "      <th>EXPERIENCE_REQUIRED</th>\n",
       "      <th>SALARY_OFFERED</th>\n",
       "    </tr>\n",
       "  </thead>\n",
       "  <tbody>\n",
       "    <tr>\n",
       "      <th>0</th>\n",
       "      <td>Data Scientist</td>\n",
       "      <td>Noida, Nagpur, Bangalore/Bengaluru</td>\n",
       "      <td>GlobalLogic</td>\n",
       "      <td>8-10 Yrs</td>\n",
       "      <td>3,00,000 - 4,50,000 PA.</td>\n",
       "    </tr>\n",
       "    <tr>\n",
       "      <th>1</th>\n",
       "      <td>DigitalBCG GAMMA Data Scientist</td>\n",
       "      <td>New Delhi, Bangalore/Bengaluru</td>\n",
       "      <td>Boston Consulting Group</td>\n",
       "      <td>2-5 Yrs</td>\n",
       "      <td>Not disclosed</td>\n",
       "    </tr>\n",
       "    <tr>\n",
       "      <th>2</th>\n",
       "      <td>Data Scientist</td>\n",
       "      <td>Gurgaon/Gurugram</td>\n",
       "      <td>Optum</td>\n",
       "      <td>2-7 Yrs</td>\n",
       "      <td>Not disclosed</td>\n",
       "    </tr>\n",
       "    <tr>\n",
       "      <th>3</th>\n",
       "      <td>Data Scientist / Chat-bot Developer</td>\n",
       "      <td>New Delhi, Bangalore/Bengaluru, Mumbai (All Ar...</td>\n",
       "      <td>Big Seo Buzz</td>\n",
       "      <td>3-7 Yrs</td>\n",
       "      <td>5,00,000 - 12,00,000 PA.</td>\n",
       "    </tr>\n",
       "    <tr>\n",
       "      <th>4</th>\n",
       "      <td>Lead Data Scientist</td>\n",
       "      <td>Noida(Sector-59 Noida)\\n(WFH during Covid)</td>\n",
       "      <td>R Systems International</td>\n",
       "      <td>7-10 Yrs</td>\n",
       "      <td>Not disclosed</td>\n",
       "    </tr>\n",
       "    <tr>\n",
       "      <th>5</th>\n",
       "      <td>Data Scientist - Predictive Analytics</td>\n",
       "      <td>Noida, Mumbai, Chandigarh, Hyderabad/Secundera...</td>\n",
       "      <td>Confidential</td>\n",
       "      <td>1-6 Yrs</td>\n",
       "      <td>Not disclosed</td>\n",
       "    </tr>\n",
       "    <tr>\n",
       "      <th>6</th>\n",
       "      <td>Data Scientist</td>\n",
       "      <td>Noida</td>\n",
       "      <td>Avantive Solutions</td>\n",
       "      <td>7-10 Yrs</td>\n",
       "      <td>Not disclosed</td>\n",
       "    </tr>\n",
       "    <tr>\n",
       "      <th>7</th>\n",
       "      <td>Knowledge/Data Scientist</td>\n",
       "      <td>Delhi / NCR</td>\n",
       "      <td>BOLD Technology Systems</td>\n",
       "      <td>3-6 Yrs</td>\n",
       "      <td>Not disclosed</td>\n",
       "    </tr>\n",
       "    <tr>\n",
       "      <th>8</th>\n",
       "      <td>Data Scientist</td>\n",
       "      <td>Gurgaon/Gurugram</td>\n",
       "      <td>Feedback Infra</td>\n",
       "      <td>2-4 Yrs</td>\n",
       "      <td>5,00,000 - 8,00,000 PA.</td>\n",
       "    </tr>\n",
       "    <tr>\n",
       "      <th>9</th>\n",
       "      <td>Data Scientist</td>\n",
       "      <td>Noida</td>\n",
       "      <td>4i Odc</td>\n",
       "      <td>2-4 Yrs</td>\n",
       "      <td>4,00,000 - 9,00,000 PA.</td>\n",
       "    </tr>\n",
       "  </tbody>\n",
       "</table>\n",
       "</div>"
      ],
      "text/plain": [
       "                               JOB_TITLE  \\\n",
       "0                         Data Scientist   \n",
       "1        DigitalBCG GAMMA Data Scientist   \n",
       "2                         Data Scientist   \n",
       "3    Data Scientist / Chat-bot Developer   \n",
       "4                    Lead Data Scientist   \n",
       "5  Data Scientist - Predictive Analytics   \n",
       "6                         Data Scientist   \n",
       "7               Knowledge/Data Scientist   \n",
       "8                         Data Scientist   \n",
       "9                         Data Scientist   \n",
       "\n",
       "                                        Job_LOCATION             COMPANY_NAME  \\\n",
       "0                 Noida, Nagpur, Bangalore/Bengaluru              GlobalLogic   \n",
       "1                     New Delhi, Bangalore/Bengaluru  Boston Consulting Group   \n",
       "2                                   Gurgaon/Gurugram                    Optum   \n",
       "3  New Delhi, Bangalore/Bengaluru, Mumbai (All Ar...             Big Seo Buzz   \n",
       "4         Noida(Sector-59 Noida)\\n(WFH during Covid)  R Systems International   \n",
       "5  Noida, Mumbai, Chandigarh, Hyderabad/Secundera...             Confidential   \n",
       "6                                              Noida       Avantive Solutions   \n",
       "7                                        Delhi / NCR  BOLD Technology Systems   \n",
       "8                                   Gurgaon/Gurugram           Feedback Infra   \n",
       "9                                              Noida                   4i Odc   \n",
       "\n",
       "  EXPERIENCE_REQUIRED            SALARY_OFFERED  \n",
       "0            8-10 Yrs   3,00,000 - 4,50,000 PA.  \n",
       "1             2-5 Yrs             Not disclosed  \n",
       "2             2-7 Yrs             Not disclosed  \n",
       "3             3-7 Yrs  5,00,000 - 12,00,000 PA.  \n",
       "4            7-10 Yrs             Not disclosed  \n",
       "5             1-6 Yrs             Not disclosed  \n",
       "6            7-10 Yrs             Not disclosed  \n",
       "7             3-6 Yrs             Not disclosed  \n",
       "8             2-4 Yrs   5,00,000 - 8,00,000 PA.  \n",
       "9             2-4 Yrs   4,00,000 - 9,00,000 PA.  "
      ]
     },
     "execution_count": 53,
     "metadata": {},
     "output_type": "execute_result"
    }
   ],
   "source": [
    "df=pd.DataFrame({'JOB_TITLE':job_title,'Job_LOCATION':job_location,'COMPANY_NAME':company_name,'EXPERIENCE_REQUIRED':experience_required,'SALARY_OFFERED':salary_offered})\n",
    "df"
   ]
  },
  {
   "cell_type": "code",
   "execution_count": null,
   "id": "798fbecc",
   "metadata": {},
   "outputs": [],
   "source": []
  },
  {
   "cell_type": "markdown",
   "id": "603ca618",
   "metadata": {},
   "source": [
    "# Q--4"
   ]
  },
  {
   "cell_type": "code",
   "execution_count": 54,
   "id": "48318d6d",
   "metadata": {},
   "outputs": [],
   "source": [
    "import pandas as pd\n",
    "import selenium\n",
    "from selenium import webdriver\n",
    "import warnings\n",
    "warnings.filterwarnings('ignore')\n",
    "from selenium.common.exceptions import StaleElementReferenceException,NoSuchElementException\n",
    "from selenium.webdriver.common.by import By\n",
    "import time"
   ]
  },
  {
   "cell_type": "code",
   "execution_count": 55,
   "id": "ac803ae0",
   "metadata": {},
   "outputs": [],
   "source": [
    "driver=webdriver.Chrome(r\"C:\\Users\\singh\\Downloads\\chromedriver_win32\\chromedriver.exe\")"
   ]
  },
  {
   "cell_type": "code",
   "execution_count": 56,
   "id": "7622785a",
   "metadata": {},
   "outputs": [],
   "source": [
    "driver.get('https://www.flipkart.com/')"
   ]
  },
  {
   "cell_type": "code",
   "execution_count": 57,
   "id": "591e5bf8",
   "metadata": {},
   "outputs": [],
   "source": [
    "product=driver.find_element(By.CLASS_NAME,\"_3704LK\")\n",
    "product.send_keys('sunglasses')"
   ]
  },
  {
   "cell_type": "code",
   "execution_count": 58,
   "id": "d9c7e58b",
   "metadata": {},
   "outputs": [],
   "source": [
    "search=driver.find_element(By.CLASS_NAME,\"L0Z3Pu\")\n",
    "search.click()"
   ]
  },
  {
   "cell_type": "code",
   "execution_count": 59,
   "id": "145652ec",
   "metadata": {},
   "outputs": [],
   "source": [
    "brand=[]\n",
    "description=[]\n",
    "price=[]"
   ]
  },
  {
   "cell_type": "code",
   "execution_count": 60,
   "id": "122a10fa",
   "metadata": {},
   "outputs": [],
   "source": [
    "start=0\n",
    "end=3\n",
    "for page in range(start,end):\n",
    "    \n",
    "    product_brand=driver.find_elements(By.XPATH,'//div[@class=\"_2WkVRV\"]')\n",
    "    for i in product_brand:\n",
    "        brand.append(i.text)\n",
    "    next_button=driver.find_element(By.XPATH,'//a[@class=\"_1LKTO3\"]')\n",
    "    next_button.click()\n",
    "    time.sleep(4)"
   ]
  },
  {
   "cell_type": "code",
   "execution_count": 61,
   "id": "0eb24473",
   "metadata": {},
   "outputs": [],
   "source": [
    "start=0\n",
    "end=3\n",
    "for page in range(start,end):\n",
    "    \n",
    "    product_description=driver.find_elements(By.XPATH,'//a[@class=\"IRpwTa\"]')\n",
    "    for i in product_description:\n",
    "        description.append(i.text)\n",
    "    next_button=driver.find_element(By.XPATH,'//a[@class=\"_1LKTO3\"]')\n",
    "    next_button.click()\n",
    "    time.sleep(4)"
   ]
  },
  {
   "cell_type": "code",
   "execution_count": 62,
   "id": "05f3c1cb",
   "metadata": {},
   "outputs": [],
   "source": [
    "start=0\n",
    "end=3\n",
    "for page in range(start,end):\n",
    "    price_product=driver.find_elements(By.XPATH,'//div[@class=\"_30jeq3\"]')\n",
    "    for i in price_product:\n",
    "        price.append(i.text)\n",
    "    next_button=driver.find_element(By.XPATH,'//a[@class=\"_1LKTO3\"]')\n",
    "    next_button.click()\n",
    "    time.sleep(4)"
   ]
  },
  {
   "cell_type": "code",
   "execution_count": 63,
   "id": "3d7a3469",
   "metadata": {},
   "outputs": [
    {
     "name": "stdout",
     "output_type": "stream",
     "text": [
      "120 120 120\n"
     ]
    }
   ],
   "source": [
    "print(len(brand),len(description),len(price))"
   ]
  },
  {
   "cell_type": "code",
   "execution_count": 64,
   "id": "b800d1b5",
   "metadata": {},
   "outputs": [
    {
     "data": {
      "text/html": [
       "<div>\n",
       "<style scoped>\n",
       "    .dataframe tbody tr th:only-of-type {\n",
       "        vertical-align: middle;\n",
       "    }\n",
       "\n",
       "    .dataframe tbody tr th {\n",
       "        vertical-align: top;\n",
       "    }\n",
       "\n",
       "    .dataframe thead th {\n",
       "        text-align: right;\n",
       "    }\n",
       "</style>\n",
       "<table border=\"1\" class=\"dataframe\">\n",
       "  <thead>\n",
       "    <tr style=\"text-align: right;\">\n",
       "      <th></th>\n",
       "      <th>SUNGALSSES_BRAND</th>\n",
       "      <th>DESCRIPTION</th>\n",
       "      <th>Price</th>\n",
       "    </tr>\n",
       "  </thead>\n",
       "  <tbody>\n",
       "    <tr>\n",
       "      <th>0</th>\n",
       "      <td>RED MONK</td>\n",
       "      <td>Mirrored Rectangular Sunglasses (Free Size)</td>\n",
       "      <td>₹284</td>\n",
       "    </tr>\n",
       "    <tr>\n",
       "      <th>1</th>\n",
       "      <td>ROYAL SON</td>\n",
       "      <td>UV Protection Shield Sunglasses (Free Size)</td>\n",
       "      <td>₹538</td>\n",
       "    </tr>\n",
       "    <tr>\n",
       "      <th>2</th>\n",
       "      <td>Fastrack</td>\n",
       "      <td>UV Protection Wayfarer Sunglasses (56)</td>\n",
       "      <td>₹799</td>\n",
       "    </tr>\n",
       "    <tr>\n",
       "      <th>3</th>\n",
       "      <td>ROZZETTA CRAFT</td>\n",
       "      <td>Gradient, UV Protection Aviator Sunglasses (57)</td>\n",
       "      <td>₹359</td>\n",
       "    </tr>\n",
       "    <tr>\n",
       "      <th>4</th>\n",
       "      <td>ROZZETTA CRAFT</td>\n",
       "      <td>Mirrored, UV Protection Wayfarer Sunglasses (F...</td>\n",
       "      <td>₹449</td>\n",
       "    </tr>\n",
       "    <tr>\n",
       "      <th>...</th>\n",
       "      <td>...</td>\n",
       "      <td>...</td>\n",
       "      <td>...</td>\n",
       "    </tr>\n",
       "    <tr>\n",
       "      <th>95</th>\n",
       "      <td>ROYAL SON</td>\n",
       "      <td>by Lenskart Polarized, UV Protection Wayfarer ...</td>\n",
       "      <td>₹600</td>\n",
       "    </tr>\n",
       "    <tr>\n",
       "      <th>96</th>\n",
       "      <td>PIRASO</td>\n",
       "      <td>UV Protection, Polarized, Mirrored Round Sungl...</td>\n",
       "      <td>₹383</td>\n",
       "    </tr>\n",
       "    <tr>\n",
       "      <th>97</th>\n",
       "      <td>Fastrack</td>\n",
       "      <td>UV Protection, Gradient Retro Square Sunglasse...</td>\n",
       "      <td>₹759</td>\n",
       "    </tr>\n",
       "    <tr>\n",
       "      <th>98</th>\n",
       "      <td>kingsunglasses</td>\n",
       "      <td>UV Protection, Gradient Butterfly Sunglasses (62)</td>\n",
       "      <td>₹329</td>\n",
       "    </tr>\n",
       "    <tr>\n",
       "      <th>99</th>\n",
       "      <td>ROYAL SON</td>\n",
       "      <td>UV Protection Rectangular, Retro Square Sungla...</td>\n",
       "      <td>₹774</td>\n",
       "    </tr>\n",
       "  </tbody>\n",
       "</table>\n",
       "<p>100 rows × 3 columns</p>\n",
       "</div>"
      ],
      "text/plain": [
       "   SUNGALSSES_BRAND                                        DESCRIPTION Price \n",
       "0          RED MONK        Mirrored Rectangular Sunglasses (Free Size)   ₹284\n",
       "1         ROYAL SON        UV Protection Shield Sunglasses (Free Size)   ₹538\n",
       "2          Fastrack             UV Protection Wayfarer Sunglasses (56)   ₹799\n",
       "3    ROZZETTA CRAFT    Gradient, UV Protection Aviator Sunglasses (57)   ₹359\n",
       "4    ROZZETTA CRAFT  Mirrored, UV Protection Wayfarer Sunglasses (F...   ₹449\n",
       "..              ...                                                ...    ...\n",
       "95        ROYAL SON  by Lenskart Polarized, UV Protection Wayfarer ...   ₹600\n",
       "96           PIRASO  UV Protection, Polarized, Mirrored Round Sungl...   ₹383\n",
       "97         Fastrack  UV Protection, Gradient Retro Square Sunglasse...   ₹759\n",
       "98   kingsunglasses  UV Protection, Gradient Butterfly Sunglasses (62)   ₹329\n",
       "99        ROYAL SON  UV Protection Rectangular, Retro Square Sungla...   ₹774\n",
       "\n",
       "[100 rows x 3 columns]"
      ]
     },
     "execution_count": 64,
     "metadata": {},
     "output_type": "execute_result"
    }
   ],
   "source": [
    "df=pd.DataFrame({'SUNGALSSES_BRAND':brand[:100],'DESCRIPTION':description[:100],'Price ':price[:100]})\n",
    "df"
   ]
  },
  {
   "cell_type": "code",
   "execution_count": null,
   "id": "74fae01a",
   "metadata": {},
   "outputs": [],
   "source": []
  },
  {
   "cell_type": "markdown",
   "id": "90e809b7",
   "metadata": {},
   "source": [
    "## Q.-5"
   ]
  },
  {
   "cell_type": "code",
   "execution_count": 65,
   "id": "4feefa13",
   "metadata": {},
   "outputs": [],
   "source": [
    "import selenium\n",
    "import pandas as pd\n",
    "from selenium import webdriver\n",
    "from selenium.common.exceptions import StaleElementReferenceException,NoSuchElementException\n",
    "from selenium.webdriver.common.by import By\n",
    "import warnings\n",
    "warnings.filterwarnings('ignore')\n",
    "import time"
   ]
  },
  {
   "cell_type": "code",
   "execution_count": 66,
   "id": "7eabd9d4",
   "metadata": {},
   "outputs": [],
   "source": [
    "driver=webdriver.Chrome(r\"C:\\Users\\singh\\Downloads\\chromedriver_win32\\chromedriver.exe\")"
   ]
  },
  {
   "cell_type": "code",
   "execution_count": 67,
   "id": "e3a5c6b5",
   "metadata": {},
   "outputs": [],
   "source": [
    "driver.get('https://www.flipkart.com/')"
   ]
  },
  {
   "cell_type": "code",
   "execution_count": 68,
   "id": "4244c808",
   "metadata": {},
   "outputs": [],
   "source": [
    "product=driver.find_element(By.CLASS_NAME,'_3704LK')\n",
    "product.send_keys('i phone 11')"
   ]
  },
  {
   "cell_type": "code",
   "execution_count": 69,
   "id": "10e3b1b6",
   "metadata": {},
   "outputs": [],
   "source": [
    "search=driver.find_element(By.CLASS_NAME,'L0Z3Pu')\n",
    "search.click()"
   ]
  },
  {
   "cell_type": "code",
   "execution_count": 70,
   "id": "0d16cb13",
   "metadata": {},
   "outputs": [],
   "source": [
    "open_ratings=driver.find_element(By.CLASS_NAME,'_3LWZlK')\n",
    "open_ratings.click()"
   ]
  },
  {
   "cell_type": "code",
   "execution_count": 71,
   "id": "c4f2c2f0",
   "metadata": {},
   "outputs": [],
   "source": [
    "driver.get('https://www.flipkart.com/apple-iphone-11-black-64-gb/p/itm4e5041ba101fd?pid=MOBFWQ6BXGJCEYNY&lid=LSTMOBFWQ6BXGJCEYNYZXSHRJ&marketplace=FLIPKART&q=i+phone11&store=tyy%2F4io&srno=s_1_1&otracker=search&otracker1=search&fm=organic&iid=ec909efa-2b89-4d3f-882d-154b7e3b2906.MOBFWQ6BXGJCEYNY.SEARCH&ppt=hp&ppn=homepage&ssid=eh282kdk5s0000001663013751612&qH=f63aed1f59c8daf5')"
   ]
  },
  {
   "cell_type": "code",
   "execution_count": 72,
   "id": "0eec0b75",
   "metadata": {},
   "outputs": [],
   "source": [
    "more_review=driver.find_element(By.XPATH,'//div[@class=\"_3UAT2v _16PBlm\"]')\n",
    "more_review.click()"
   ]
  },
  {
   "cell_type": "code",
   "execution_count": 73,
   "id": "4a1ed924",
   "metadata": {},
   "outputs": [],
   "source": [
    "rating=[]\n",
    "full_review=[]\n",
    "reviews_summary=[]\n"
   ]
  },
  {
   "cell_type": "code",
   "execution_count": 74,
   "id": "24b7f533",
   "metadata": {},
   "outputs": [],
   "source": [
    "start=0\n",
    "end=10\n",
    "for page in range(start,end):\n",
    "    ratings=driver.find_elements(By.XPATH,'//div[@class=\"_3LWZlK _1BLPMq\"]')\n",
    "    for i in ratings:\n",
    "        rating.append(i.text)\n",
    "    next_button=driver.find_element(By.XPATH,'//a[@class=\"_1LKTO3\"]')\n",
    "    next_button.click()\n",
    "    time.sleep(11)\n",
    "    \n",
    "start=0\n",
    "end=10\n",
    "for page in range(start,end):\n",
    "    review=driver.find_elements(By.XPATH,'//p[@class=\"_2-N8zT\"]')\n",
    "    for i in review:\n",
    "        full_review.append(i.text)\n",
    "    next_button=driver.find_element(By.XPATH,'//a[@class=\"_1LKTO3\"]')\n",
    "    next_button.click()\n",
    "    time.sleep(11)\n",
    "    \n"
   ]
  },
  {
   "cell_type": "code",
   "execution_count": 76,
   "id": "cced9a4f",
   "metadata": {},
   "outputs": [],
   "source": [
    "\n",
    "start=0\n",
    "end=10\n",
    "for page in range(start,end):\n",
    "    summaries=driver.find_elements(By.XPATH,'//div[@class=\"t-ZTKy\"]')\n",
    "    for i in summaries:\n",
    "        reviews_summary.append(i.text)\n",
    "    next_button=driver.find_element(By.XPATH,'//a[@class=\"_1LKTO3\"]')\n",
    "    next_button.click()\n",
    "    time.sleep(11)"
   ]
  },
  {
   "cell_type": "code",
   "execution_count": 77,
   "id": "cb67f553",
   "metadata": {},
   "outputs": [
    {
     "name": "stdout",
     "output_type": "stream",
     "text": [
      "100 100 110\n"
     ]
    }
   ],
   "source": [
    "print(len(rating),len(full_review),len(reviews_summary))"
   ]
  },
  {
   "cell_type": "code",
   "execution_count": 78,
   "id": "5f87aa51",
   "metadata": {},
   "outputs": [
    {
     "data": {
      "text/html": [
       "<div>\n",
       "<style scoped>\n",
       "    .dataframe tbody tr th:only-of-type {\n",
       "        vertical-align: middle;\n",
       "    }\n",
       "\n",
       "    .dataframe tbody tr th {\n",
       "        vertical-align: top;\n",
       "    }\n",
       "\n",
       "    .dataframe thead th {\n",
       "        text-align: right;\n",
       "    }\n",
       "</style>\n",
       "<table border=\"1\" class=\"dataframe\">\n",
       "  <thead>\n",
       "    <tr style=\"text-align: right;\">\n",
       "      <th></th>\n",
       "      <th>RATING</th>\n",
       "      <th>FULL_REVIEW</th>\n",
       "      <th>REVIEW_SUMMARY</th>\n",
       "    </tr>\n",
       "  </thead>\n",
       "  <tbody>\n",
       "    <tr>\n",
       "      <th>0</th>\n",
       "      <td>5</td>\n",
       "      <td>Simply awesome</td>\n",
       "      <td>So far it’s been an AMAZING experience coming ...</td>\n",
       "    </tr>\n",
       "    <tr>\n",
       "      <th>1</th>\n",
       "      <td>5</td>\n",
       "      <td>Perfect product!</td>\n",
       "      <td>iphone 11 is a very good phone to buy only if ...</td>\n",
       "    </tr>\n",
       "    <tr>\n",
       "      <th>2</th>\n",
       "      <td>5</td>\n",
       "      <td>Best in the market!</td>\n",
       "      <td>It’s a must buy who is looking for an upgrade ...</td>\n",
       "    </tr>\n",
       "    <tr>\n",
       "      <th>3</th>\n",
       "      <td>5</td>\n",
       "      <td>Highly recommended</td>\n",
       "      <td>Value for money❤️❤️\\nIts awesome mobile phone ...</td>\n",
       "    </tr>\n",
       "    <tr>\n",
       "      <th>4</th>\n",
       "      <td>5</td>\n",
       "      <td>Worth every penny</td>\n",
       "      <td>It is just awesome mobile for this price from ...</td>\n",
       "    </tr>\n",
       "    <tr>\n",
       "      <th>...</th>\n",
       "      <td>...</td>\n",
       "      <td>...</td>\n",
       "      <td>...</td>\n",
       "    </tr>\n",
       "    <tr>\n",
       "      <th>95</th>\n",
       "      <td>5</td>\n",
       "      <td>Worth every penny</td>\n",
       "      <td>Smooth like butter, camera like fantabulous, s...</td>\n",
       "    </tr>\n",
       "    <tr>\n",
       "      <th>96</th>\n",
       "      <td>5</td>\n",
       "      <td>Highly recommended</td>\n",
       "      <td>Amazing camera quality as expected, battery al...</td>\n",
       "    </tr>\n",
       "    <tr>\n",
       "      <th>97</th>\n",
       "      <td>5</td>\n",
       "      <td>Perfect product!</td>\n",
       "      <td>Iphone is just awesome.. battery backup is ver...</td>\n",
       "    </tr>\n",
       "    <tr>\n",
       "      <th>98</th>\n",
       "      <td>5</td>\n",
       "      <td>Terrific</td>\n",
       "      <td>Really worth of money. i just love it. It is t...</td>\n",
       "    </tr>\n",
       "    <tr>\n",
       "      <th>99</th>\n",
       "      <td>5</td>\n",
       "      <td>Wonderful</td>\n",
       "      <td>This is my first ever I phone. Before this I w...</td>\n",
       "    </tr>\n",
       "  </tbody>\n",
       "</table>\n",
       "<p>100 rows × 3 columns</p>\n",
       "</div>"
      ],
      "text/plain": [
       "   RATING          FULL_REVIEW  \\\n",
       "0       5       Simply awesome   \n",
       "1       5     Perfect product!   \n",
       "2       5  Best in the market!   \n",
       "3       5   Highly recommended   \n",
       "4       5    Worth every penny   \n",
       "..    ...                  ...   \n",
       "95      5    Worth every penny   \n",
       "96      5   Highly recommended   \n",
       "97      5     Perfect product!   \n",
       "98      5             Terrific   \n",
       "99      5            Wonderful   \n",
       "\n",
       "                                       REVIEW_SUMMARY  \n",
       "0   So far it’s been an AMAZING experience coming ...  \n",
       "1   iphone 11 is a very good phone to buy only if ...  \n",
       "2   It’s a must buy who is looking for an upgrade ...  \n",
       "3   Value for money❤️❤️\\nIts awesome mobile phone ...  \n",
       "4   It is just awesome mobile for this price from ...  \n",
       "..                                                ...  \n",
       "95  Smooth like butter, camera like fantabulous, s...  \n",
       "96  Amazing camera quality as expected, battery al...  \n",
       "97  Iphone is just awesome.. battery backup is ver...  \n",
       "98  Really worth of money. i just love it. It is t...  \n",
       "99  This is my first ever I phone. Before this I w...  \n",
       "\n",
       "[100 rows x 3 columns]"
      ]
     },
     "execution_count": 78,
     "metadata": {},
     "output_type": "execute_result"
    }
   ],
   "source": [
    "df=pd.DataFrame({'RATING':rating,'FULL_REVIEW':full_review,'REVIEW_SUMMARY':reviews_summary[:100]})\n",
    "df"
   ]
  },
  {
   "cell_type": "code",
   "execution_count": null,
   "id": "c68bac8b",
   "metadata": {},
   "outputs": [],
   "source": []
  },
  {
   "cell_type": "markdown",
   "id": "93b83e46",
   "metadata": {},
   "source": [
    "# Q.6"
   ]
  },
  {
   "cell_type": "code",
   "execution_count": 82,
   "id": "3585e36e",
   "metadata": {},
   "outputs": [],
   "source": [
    "import selenium\n",
    "import pandas as pd\n",
    "from selenium import webdriver\n",
    "from selenium.common.exceptions import StaleElementReferenceException,NoSuchElementException\n",
    "from selenium.webdriver.common.by import By\n",
    "import warnings\n",
    "warnings.filterwarnings('ignore')\n",
    "import time"
   ]
  },
  {
   "cell_type": "code",
   "execution_count": 83,
   "id": "152234db",
   "metadata": {},
   "outputs": [],
   "source": [
    "driver=webdriver.Chrome(r\"C:\\Users\\singh\\Downloads\\chromedriver_win32\\chromedriver.exe\")"
   ]
  },
  {
   "cell_type": "code",
   "execution_count": 84,
   "id": "36a1222a",
   "metadata": {},
   "outputs": [],
   "source": [
    "driver.get('https://www.flipkart.com/')"
   ]
  },
  {
   "cell_type": "code",
   "execution_count": 85,
   "id": "08df4c3e",
   "metadata": {},
   "outputs": [],
   "source": [
    "product=driver.find_element(By.CLASS_NAME,'_3704LK')\n",
    "product.send_keys('sneakers')"
   ]
  },
  {
   "cell_type": "code",
   "execution_count": 86,
   "id": "4cc457c3",
   "metadata": {},
   "outputs": [],
   "source": [
    "search=driver.find_element(By.CLASS_NAME,'L0Z3Pu')\n",
    "search.click()"
   ]
  },
  {
   "cell_type": "code",
   "execution_count": 93,
   "id": "593e1805",
   "metadata": {},
   "outputs": [],
   "source": [
    "Brand=[]\n",
    "Product_Description=[]\n",
    "Price=[]"
   ]
  },
  {
   "cell_type": "code",
   "execution_count": 94,
   "id": "1a683b3c",
   "metadata": {},
   "outputs": [],
   "source": [
    "start=0\n",
    "end=3\n",
    "for page in range(start,end):\n",
    "    brand=driver.find_elements(By.XPATH,'//div[@class=\"_2WkVRV\"]')\n",
    "    for i in brand:\n",
    "        Brand.append(i.text)\n",
    "    next_button=driver.find_element(By.XPATH,'//a[@class=\"_1LKTO3\"]')\n",
    "    next_button.click()\n",
    "    time.sleep(4)"
   ]
  },
  {
   "cell_type": "code",
   "execution_count": 95,
   "id": "e67def78",
   "metadata": {},
   "outputs": [],
   "source": [
    "start=0\n",
    "end=3\n",
    "for page in range(start,end):\n",
    "    product=driver.find_elements(By.XPATH,'//a[@class=\"IRpwTa\"]')\n",
    "    for i in product:\n",
    "        Product_Description.append(i.text)\n",
    "    next_button=driver.find_element(By.XPATH,'//a[@class=\"_1LKTO3\"]')\n",
    "    next_button.click()\n",
    "    time.sleep(4)"
   ]
  },
  {
   "cell_type": "code",
   "execution_count": 96,
   "id": "a2f137af",
   "metadata": {},
   "outputs": [],
   "source": [
    "start=0\n",
    "end=3\n",
    "for page in range(start,end):\n",
    "    price=driver.find_elements(By.XPATH,'//a[@class=\"IRpwTa\"]')\n",
    "    for i in price:\n",
    "        Price.append(i.text)\n",
    "    next_button=driver.find_element(By.XPATH,'//a[@class=\"_1LKTO3\"]')\n",
    "    next_button.click()\n",
    "    time.sleep(4)"
   ]
  },
  {
   "cell_type": "code",
   "execution_count": 97,
   "id": "0921bd16",
   "metadata": {},
   "outputs": [
    {
     "data": {
      "text/html": [
       "<div>\n",
       "<style scoped>\n",
       "    .dataframe tbody tr th:only-of-type {\n",
       "        vertical-align: middle;\n",
       "    }\n",
       "\n",
       "    .dataframe tbody tr th {\n",
       "        vertical-align: top;\n",
       "    }\n",
       "\n",
       "    .dataframe thead th {\n",
       "        text-align: right;\n",
       "    }\n",
       "</style>\n",
       "<table border=\"1\" class=\"dataframe\">\n",
       "  <thead>\n",
       "    <tr style=\"text-align: right;\">\n",
       "      <th></th>\n",
       "      <th>BRAND</th>\n",
       "      <th>PRODUCT_DESCRIPTION</th>\n",
       "      <th>PRICE</th>\n",
       "    </tr>\n",
       "  </thead>\n",
       "  <tbody>\n",
       "    <tr>\n",
       "      <th>0</th>\n",
       "      <td>Shozie</td>\n",
       "      <td>Sneakers For Men</td>\n",
       "      <td>Sneakers For Men</td>\n",
       "    </tr>\n",
       "    <tr>\n",
       "      <th>1</th>\n",
       "      <td>BRUTON</td>\n",
       "      <td>CAMP CLINT Sneakers For Men</td>\n",
       "      <td>Modern Trendy Sneakers Shoes Sneakers For Men</td>\n",
       "    </tr>\n",
       "    <tr>\n",
       "      <th>2</th>\n",
       "      <td>Shozie</td>\n",
       "      <td>Sneakers For Men</td>\n",
       "      <td>Sneakers For Men</td>\n",
       "    </tr>\n",
       "    <tr>\n",
       "      <th>3</th>\n",
       "      <td>Layasa</td>\n",
       "      <td>Breathable, Walking, Running, Casual, Gym Shoe...</td>\n",
       "      <td>Sneakers For Women</td>\n",
       "    </tr>\n",
       "    <tr>\n",
       "      <th>4</th>\n",
       "      <td>LE GREEM</td>\n",
       "      <td>supr Sneakers For Men</td>\n",
       "      <td>Comfortable &amp; Ultra Light Weight Sneaker Sneak...</td>\n",
       "    </tr>\n",
       "    <tr>\n",
       "      <th>...</th>\n",
       "      <td>...</td>\n",
       "      <td>...</td>\n",
       "      <td>...</td>\n",
       "    </tr>\n",
       "    <tr>\n",
       "      <th>95</th>\n",
       "      <td>Mast &amp; Harbour</td>\n",
       "      <td>Sneakers For Men</td>\n",
       "      <td>Comfortable Premium Stylish Unique Trendy Popu...</td>\n",
       "    </tr>\n",
       "    <tr>\n",
       "      <th>96</th>\n",
       "      <td>bluemaker</td>\n",
       "      <td>Sneakers For Men</td>\n",
       "      <td>Sneakers For Women</td>\n",
       "    </tr>\n",
       "    <tr>\n",
       "      <th>97</th>\n",
       "      <td>Magnolia</td>\n",
       "      <td>Sneakers For Men</td>\n",
       "      <td>Trinity Sneakers For Men</td>\n",
       "    </tr>\n",
       "    <tr>\n",
       "      <th>98</th>\n",
       "      <td>SCATCHITE</td>\n",
       "      <td>Series 7 Sneakers For Men</td>\n",
       "      <td>Sneakers For Men</td>\n",
       "    </tr>\n",
       "    <tr>\n",
       "      <th>99</th>\n",
       "      <td>CAMPUS</td>\n",
       "      <td>Black snaekers for men black canvas shoes casu...</td>\n",
       "      <td>Stylish Walking Partywear Sneakers Casual Shoe...</td>\n",
       "    </tr>\n",
       "  </tbody>\n",
       "</table>\n",
       "<p>100 rows × 3 columns</p>\n",
       "</div>"
      ],
      "text/plain": [
       "             BRAND                                PRODUCT_DESCRIPTION  \\\n",
       "0           Shozie                                   Sneakers For Men   \n",
       "1           BRUTON                        CAMP CLINT Sneakers For Men   \n",
       "2           Shozie                                   Sneakers For Men   \n",
       "3           Layasa  Breathable, Walking, Running, Casual, Gym Shoe...   \n",
       "4         LE GREEM                              supr Sneakers For Men   \n",
       "..             ...                                                ...   \n",
       "95  Mast & Harbour                                   Sneakers For Men   \n",
       "96       bluemaker                                   Sneakers For Men   \n",
       "97        Magnolia                                   Sneakers For Men   \n",
       "98       SCATCHITE                          Series 7 Sneakers For Men   \n",
       "99          CAMPUS  Black snaekers for men black canvas shoes casu...   \n",
       "\n",
       "                                                PRICE  \n",
       "0                                    Sneakers For Men  \n",
       "1       Modern Trendy Sneakers Shoes Sneakers For Men  \n",
       "2                                    Sneakers For Men  \n",
       "3                                  Sneakers For Women  \n",
       "4   Comfortable & Ultra Light Weight Sneaker Sneak...  \n",
       "..                                                ...  \n",
       "95  Comfortable Premium Stylish Unique Trendy Popu...  \n",
       "96                                 Sneakers For Women  \n",
       "97                           Trinity Sneakers For Men  \n",
       "98                                   Sneakers For Men  \n",
       "99  Stylish Walking Partywear Sneakers Casual Shoe...  \n",
       "\n",
       "[100 rows x 3 columns]"
      ]
     },
     "execution_count": 97,
     "metadata": {},
     "output_type": "execute_result"
    }
   ],
   "source": [
    "df=pd.DataFrame({'BRAND':Brand[:100],'PRODUCT_DESCRIPTION':Product_Description[:100],'PRICE':Price[:100]})\n",
    "df"
   ]
  },
  {
   "cell_type": "code",
   "execution_count": null,
   "id": "61835436",
   "metadata": {},
   "outputs": [],
   "source": []
  },
  {
   "cell_type": "markdown",
   "id": "e296ad79",
   "metadata": {},
   "source": [
    "# Q.7"
   ]
  },
  {
   "cell_type": "code",
   "execution_count": 98,
   "id": "9e2cdd69",
   "metadata": {},
   "outputs": [],
   "source": [
    "import selenium\n",
    "import pandas as pd\n",
    "from selenium import webdriver\n",
    "from selenium.common.exceptions import StaleElementReferenceException,NoSuchElementException\n",
    "from selenium.webdriver.common.by import By\n",
    "import warnings\n",
    "warnings.filterwarnings('ignore')\n",
    "import time"
   ]
  },
  {
   "cell_type": "code",
   "execution_count": 99,
   "id": "146c313e",
   "metadata": {},
   "outputs": [],
   "source": [
    "driver=webdriver.Chrome(r\"C:\\Users\\singh\\Downloads\\chromedriver_win32\\chromedriver.exe\")"
   ]
  },
  {
   "cell_type": "code",
   "execution_count": 100,
   "id": "9bd39778",
   "metadata": {},
   "outputs": [],
   "source": [
    "driver.get('https://www.myntra.com/shoes')"
   ]
  },
  {
   "cell_type": "code",
   "execution_count": 101,
   "id": "fff84062",
   "metadata": {},
   "outputs": [],
   "source": [
    "#APPLYING PRICE FILTER\n",
    "price_filter=driver.find_elements(By.XPATH,\"/html/body/div[2]/div/div[1]/main/div[3]/div[1]/section/div/div[5]/ul/li[2]/label\")\n",
    "for i in price_filter:\n",
    "    i.click()"
   ]
  },
  {
   "cell_type": "code",
   "execution_count": 102,
   "id": "b3052b60",
   "metadata": {},
   "outputs": [],
   "source": [
    "#APPLYING COLOUR FILTER\n",
    "color_filter=driver.find_elements(By.XPATH,\"/html/body/div[2]/div/div[1]/main/div[3]/div[1]/section/div/div[6]/ul/li[1]/label\")\n",
    "for i in color_filter:\n",
    "    i.click()"
   ]
  },
  {
   "cell_type": "code",
   "execution_count": 103,
   "id": "ee409ea1",
   "metadata": {},
   "outputs": [],
   "source": [
    "Brand=[]\n",
    "Product_Description=[]\n",
    "Price=[]"
   ]
  },
  {
   "cell_type": "code",
   "execution_count": 104,
   "id": "9dec75e8",
   "metadata": {},
   "outputs": [],
   "source": [
    "start=0\n",
    "end=3\n",
    "for page in range(start,end):\n",
    "    brand=driver.find_elements(By.XPATH,'//h3[@class=\"product-brand\"]')\n",
    "    for i in brand:\n",
    "        Brand.append(i.text)\n",
    "\n",
    "start=0\n",
    "end=3\n",
    "for page in range(start,end):\n",
    "    product=driver.find_elements(By.XPATH,'//h4[@class=\"product-product\"]')\n",
    "    for i in product:\n",
    "        Product_Description.append(i.text)\n",
    "\n",
    "start=0\n",
    "end=4\n",
    "for page in range(start,end):\n",
    "    price=driver.find_elements(By.XPATH,'//span[@class=\"product-discountedPrice\"]')\n",
    "    for i in price:\n",
    "        Price.append(i.text)        "
   ]
  },
  {
   "cell_type": "code",
   "execution_count": 105,
   "id": "015ea880",
   "metadata": {},
   "outputs": [
    {
     "data": {
      "text/html": [
       "<div>\n",
       "<style scoped>\n",
       "    .dataframe tbody tr th:only-of-type {\n",
       "        vertical-align: middle;\n",
       "    }\n",
       "\n",
       "    .dataframe tbody tr th {\n",
       "        vertical-align: top;\n",
       "    }\n",
       "\n",
       "    .dataframe thead th {\n",
       "        text-align: right;\n",
       "    }\n",
       "</style>\n",
       "<table border=\"1\" class=\"dataframe\">\n",
       "  <thead>\n",
       "    <tr style=\"text-align: right;\">\n",
       "      <th></th>\n",
       "      <th>BRAND</th>\n",
       "      <th>PRODUCT_DESCRIPTION</th>\n",
       "      <th>PRICE</th>\n",
       "    </tr>\n",
       "  </thead>\n",
       "  <tbody>\n",
       "    <tr>\n",
       "      <th>0</th>\n",
       "      <td>Nike</td>\n",
       "      <td>Men ZOOM WINFLO8 Running Shoes</td>\n",
       "      <td>Rs. 7880</td>\n",
       "    </tr>\n",
       "    <tr>\n",
       "      <th>1</th>\n",
       "      <td>ADIDAS Originals</td>\n",
       "      <td>Men Leather Niteball Sneakers</td>\n",
       "      <td>Rs. 10799</td>\n",
       "    </tr>\n",
       "    <tr>\n",
       "      <th>2</th>\n",
       "      <td>Nike</td>\n",
       "      <td>Men React Infinity 3 Running</td>\n",
       "      <td>Rs. 13295</td>\n",
       "    </tr>\n",
       "    <tr>\n",
       "      <th>3</th>\n",
       "      <td>ADIDAS Originals</td>\n",
       "      <td>Men Niteball II Sneakers</td>\n",
       "      <td>Rs. 9349</td>\n",
       "    </tr>\n",
       "    <tr>\n",
       "      <th>4</th>\n",
       "      <td>Skechers</td>\n",
       "      <td>Men Sports Shoes</td>\n",
       "      <td>Rs. 7999</td>\n",
       "    </tr>\n",
       "    <tr>\n",
       "      <th>...</th>\n",
       "      <td>...</td>\n",
       "      <td>...</td>\n",
       "      <td>...</td>\n",
       "    </tr>\n",
       "    <tr>\n",
       "      <th>95</th>\n",
       "      <td>Tommy Hilfiger</td>\n",
       "      <td>Men Solid Sneakers</td>\n",
       "      <td>Rs. 7199</td>\n",
       "    </tr>\n",
       "    <tr>\n",
       "      <th>96</th>\n",
       "      <td>ADIDAS</td>\n",
       "      <td>Men 4DFWD_Pulse Running Shoes</td>\n",
       "      <td>Rs. 9210</td>\n",
       "    </tr>\n",
       "    <tr>\n",
       "      <th>97</th>\n",
       "      <td>Tommy Hilfiger</td>\n",
       "      <td>Men Solid Lightweight Sneakers</td>\n",
       "      <td>Rs. 8499</td>\n",
       "    </tr>\n",
       "    <tr>\n",
       "      <th>98</th>\n",
       "      <td>Nike</td>\n",
       "      <td>Women React Escape Running</td>\n",
       "      <td>Rs. 7649</td>\n",
       "    </tr>\n",
       "    <tr>\n",
       "      <th>99</th>\n",
       "      <td>Nike</td>\n",
       "      <td>Men Air Max Sneakers</td>\n",
       "      <td>Rs. 9599</td>\n",
       "    </tr>\n",
       "  </tbody>\n",
       "</table>\n",
       "<p>100 rows × 3 columns</p>\n",
       "</div>"
      ],
      "text/plain": [
       "               BRAND             PRODUCT_DESCRIPTION      PRICE\n",
       "0               Nike  Men ZOOM WINFLO8 Running Shoes   Rs. 7880\n",
       "1   ADIDAS Originals   Men Leather Niteball Sneakers  Rs. 10799\n",
       "2               Nike    Men React Infinity 3 Running  Rs. 13295\n",
       "3   ADIDAS Originals        Men Niteball II Sneakers   Rs. 9349\n",
       "4           Skechers                Men Sports Shoes   Rs. 7999\n",
       "..               ...                             ...        ...\n",
       "95    Tommy Hilfiger              Men Solid Sneakers   Rs. 7199\n",
       "96            ADIDAS   Men 4DFWD_Pulse Running Shoes   Rs. 9210\n",
       "97    Tommy Hilfiger  Men Solid Lightweight Sneakers   Rs. 8499\n",
       "98              Nike      Women React Escape Running   Rs. 7649\n",
       "99              Nike            Men Air Max Sneakers   Rs. 9599\n",
       "\n",
       "[100 rows x 3 columns]"
      ]
     },
     "execution_count": 105,
     "metadata": {},
     "output_type": "execute_result"
    }
   ],
   "source": [
    "df=pd.DataFrame({'BRAND':Brand[:100],'PRODUCT_DESCRIPTION':Product_Description[:100],'PRICE':Price[:100]})\n",
    "df"
   ]
  },
  {
   "cell_type": "code",
   "execution_count": null,
   "id": "9114dcfc",
   "metadata": {},
   "outputs": [],
   "source": []
  },
  {
   "cell_type": "markdown",
   "id": "b55fa7db",
   "metadata": {},
   "source": [
    "# Q.8"
   ]
  },
  {
   "cell_type": "code",
   "execution_count": 106,
   "id": "6ed3caed",
   "metadata": {},
   "outputs": [],
   "source": [
    "import selenium\n",
    "import pandas as pd\n",
    "from selenium import webdriver\n",
    "from selenium.common.exceptions import StaleElementReferenceException,NoSuchElementException\n",
    "from selenium.webdriver.common.by import By\n",
    "import warnings\n",
    "warnings.filterwarnings('ignore')\n",
    "import time"
   ]
  },
  {
   "cell_type": "code",
   "execution_count": 107,
   "id": "789f54a5",
   "metadata": {},
   "outputs": [],
   "source": [
    "driver=webdriver.Chrome(r\"C:\\Users\\singh\\Downloads\\chromedriver_win32\\chromedriver.exe\")"
   ]
  },
  {
   "cell_type": "code",
   "execution_count": 108,
   "id": "308ac25b",
   "metadata": {},
   "outputs": [],
   "source": [
    "driver.get('https://www.amazon.in/')"
   ]
  },
  {
   "cell_type": "code",
   "execution_count": 109,
   "id": "e6dfb45a",
   "metadata": {},
   "outputs": [],
   "source": [
    "search_field=driver.find_element(By.XPATH,'/html/body/div[1]/header/div/div[1]/div[2]/div/form/div[2]/div[1]/input')\n",
    "search_field.send_keys('Laptop')"
   ]
  },
  {
   "cell_type": "code",
   "execution_count": 110,
   "id": "39dae0a1",
   "metadata": {},
   "outputs": [],
   "source": [
    "search=driver.find_element(By.XPATH,'/html/body/div[1]/header/div/div[1]/div[2]/div/form/div[3]/div/span/input')\n",
    "search.click()"
   ]
  },
  {
   "cell_type": "code",
   "execution_count": 111,
   "id": "d7c891f2",
   "metadata": {},
   "outputs": [],
   "source": [
    "#Applying filter\n",
    "cpu=driver.find_elements(By.XPATH,'/html/body/div[1]/div[2]/div[1]/div[2]/div/div[3]/span/div[1]/div/div/div[5]/ul[5]/li[11]/span/a/span')\n",
    "for i in cpu:\n",
    "    i.click()"
   ]
  },
  {
   "cell_type": "code",
   "execution_count": 112,
   "id": "6b26237d",
   "metadata": {},
   "outputs": [],
   "source": [
    "title=[]\n",
    "rating=[]\n",
    "price=[]"
   ]
  },
  {
   "cell_type": "code",
   "execution_count": 113,
   "id": "2a314292",
   "metadata": {},
   "outputs": [],
   "source": [
    "titles=driver.find_elements(By.XPATH,'//h2[@class=\"a-size-mini a-spacing-none a-color-base s-line-clamp-2\"]')\n",
    "for i in titles:\n",
    "    title.append(i.text)"
   ]
  },
  {
   "cell_type": "code",
   "execution_count": 114,
   "id": "4d886e1e",
   "metadata": {},
   "outputs": [],
   "source": [
    "ratings=driver.find_elements(By.XPATH,'//div[@class=\"a-row a-size-small\"]')\n",
    "for i in ratings:\n",
    "    rating.append(i.text)"
   ]
  },
  {
   "cell_type": "code",
   "execution_count": 115,
   "id": "2b96f2cb",
   "metadata": {},
   "outputs": [],
   "source": [
    "prices=driver.find_elements(By.XPATH,'//span[@class=\"a-price-whole\"]')\n",
    "for i in prices:\n",
    "    price.append(i.text)"
   ]
  },
  {
   "cell_type": "code",
   "execution_count": 116,
   "id": "d6f631da",
   "metadata": {},
   "outputs": [
    {
     "data": {
      "text/html": [
       "<div>\n",
       "<style scoped>\n",
       "    .dataframe tbody tr th:only-of-type {\n",
       "        vertical-align: middle;\n",
       "    }\n",
       "\n",
       "    .dataframe tbody tr th {\n",
       "        vertical-align: top;\n",
       "    }\n",
       "\n",
       "    .dataframe thead th {\n",
       "        text-align: right;\n",
       "    }\n",
       "</style>\n",
       "<table border=\"1\" class=\"dataframe\">\n",
       "  <thead>\n",
       "    <tr style=\"text-align: right;\">\n",
       "      <th></th>\n",
       "      <th>TITLE</th>\n",
       "      <th>RATING</th>\n",
       "      <th>PRICE</th>\n",
       "    </tr>\n",
       "  </thead>\n",
       "  <tbody>\n",
       "    <tr>\n",
       "      <th>0</th>\n",
       "      <td>Lenovo IdeaPad Slim 5 Intel Core i7 12th Gen 1...</td>\n",
       "      <td>8</td>\n",
       "      <td>82,990</td>\n",
       "    </tr>\n",
       "    <tr>\n",
       "      <th>1</th>\n",
       "      <td>GIGABYTE AERO 5 KE4 Laptop, 15.6\" UHD OLED 60H...</td>\n",
       "      <td>60</td>\n",
       "      <td>1,67,990</td>\n",
       "    </tr>\n",
       "    <tr>\n",
       "      <th>2</th>\n",
       "      <td>Lenovo ThinkBook 15 Intel 11th Gen Core i7 15....</td>\n",
       "      <td>6</td>\n",
       "      <td>80,990</td>\n",
       "    </tr>\n",
       "    <tr>\n",
       "      <th>3</th>\n",
       "      <td>MSI Modern 14, Intel i7-1195G7, 14\" FHD IPS-Le...</td>\n",
       "      <td>34</td>\n",
       "      <td>54,990</td>\n",
       "    </tr>\n",
       "    <tr>\n",
       "      <th>4</th>\n",
       "      <td>Lenovo Ideapad Gaming 3 Intel Core i7 10th Gen...</td>\n",
       "      <td>8</td>\n",
       "      <td>62,990</td>\n",
       "    </tr>\n",
       "    <tr>\n",
       "      <th>5</th>\n",
       "      <td>Lenovo IdeaPad Slim 5 Intel Core i7 12th Gen 1...</td>\n",
       "      <td>45</td>\n",
       "      <td>82,990</td>\n",
       "    </tr>\n",
       "    <tr>\n",
       "      <th>6</th>\n",
       "      <td>HP Pavilion 11th Gen Intel Core i7 15.6 inches...</td>\n",
       "      <td>8</td>\n",
       "      <td>88,700</td>\n",
       "    </tr>\n",
       "    <tr>\n",
       "      <th>7</th>\n",
       "      <td>(Renewed) Lenovo Intel Core i7 5600U 12.5-Inch...</td>\n",
       "      <td>89</td>\n",
       "      <td>23,997</td>\n",
       "    </tr>\n",
       "    <tr>\n",
       "      <th>8</th>\n",
       "      <td>Lenovo Yoga 7i 11th Gen Intel Core i7-1165G7 1...</td>\n",
       "      <td>44</td>\n",
       "      <td>1,06,999</td>\n",
       "    </tr>\n",
       "    <tr>\n",
       "      <th>9</th>\n",
       "      <td>ASUS Vivobook 15, 15.6-inch (39.62 cms) FHD, I...</td>\n",
       "      <td>3</td>\n",
       "      <td>59,990</td>\n",
       "    </tr>\n",
       "  </tbody>\n",
       "</table>\n",
       "</div>"
      ],
      "text/plain": [
       "                                               TITLE RATING     PRICE\n",
       "0  Lenovo IdeaPad Slim 5 Intel Core i7 12th Gen 1...      8    82,990\n",
       "1  GIGABYTE AERO 5 KE4 Laptop, 15.6\" UHD OLED 60H...     60  1,67,990\n",
       "2  Lenovo ThinkBook 15 Intel 11th Gen Core i7 15....      6    80,990\n",
       "3  MSI Modern 14, Intel i7-1195G7, 14\" FHD IPS-Le...     34    54,990\n",
       "4  Lenovo Ideapad Gaming 3 Intel Core i7 10th Gen...      8    62,990\n",
       "5  Lenovo IdeaPad Slim 5 Intel Core i7 12th Gen 1...     45    82,990\n",
       "6  HP Pavilion 11th Gen Intel Core i7 15.6 inches...      8    88,700\n",
       "7  (Renewed) Lenovo Intel Core i7 5600U 12.5-Inch...     89    23,997\n",
       "8  Lenovo Yoga 7i 11th Gen Intel Core i7-1165G7 1...     44  1,06,999\n",
       "9  ASUS Vivobook 15, 15.6-inch (39.62 cms) FHD, I...      3    59,990"
      ]
     },
     "execution_count": 116,
     "metadata": {},
     "output_type": "execute_result"
    }
   ],
   "source": [
    "df=pd.DataFrame({'TITLE':title[:10],'RATING':rating[:10],'PRICE':price[:10]})\n",
    "df"
   ]
  },
  {
   "cell_type": "code",
   "execution_count": null,
   "id": "f065e395",
   "metadata": {},
   "outputs": [],
   "source": []
  },
  {
   "cell_type": "markdown",
   "id": "337f2440",
   "metadata": {},
   "source": [
    "# Q.9"
   ]
  },
  {
   "cell_type": "code",
   "execution_count": null,
   "id": "dd8e9bd1",
   "metadata": {},
   "outputs": [],
   "source": []
  },
  {
   "cell_type": "code",
   "execution_count": 148,
   "id": "0a02138a",
   "metadata": {},
   "outputs": [],
   "source": [
    "import selenium\n",
    "import pandas as pd\n",
    "from selenium import webdriver\n",
    "from selenium.common.exceptions import StaleElementReferenceException,NoSuchElementException\n",
    "from selenium.webdriver.common.by import By\n",
    "import warnings\n",
    "warnings.filterwarnings('ignore')\n",
    "import time"
   ]
  },
  {
   "cell_type": "code",
   "execution_count": 149,
   "id": "3b226f56",
   "metadata": {},
   "outputs": [],
   "source": [
    "driver=webdriver.Chrome(r\"C:\\Users\\singh\\Downloads\\chromedriver_win32\\chromedriver.exe\")"
   ]
  },
  {
   "cell_type": "code",
   "execution_count": 150,
   "id": "e23c9352",
   "metadata": {},
   "outputs": [],
   "source": [
    "driver.get('https://www.ambitionbox.com/')"
   ]
  },
  {
   "cell_type": "code",
   "execution_count": 152,
   "id": "d7b330d8",
   "metadata": {},
   "outputs": [],
   "source": [
    "job=driver.find_element(By.XPATH,'/html/body/div/div/div/div[1]/header/nav/ul/li[5]')\n",
    "job.click()"
   ]
  },
  {
   "cell_type": "code",
   "execution_count": 154,
   "id": "5cb5940e",
   "metadata": {},
   "outputs": [],
   "source": [
    "designation=driver.find_element(By.XPATH,'/html/body/div/div/div/div[2]/div[1]/div[1]/div/div/div/div/span/input')\n",
    "designation.send_keys('Data Scientist')"
   ]
  },
  {
   "cell_type": "code",
   "execution_count": 155,
   "id": "5d0e2bfd",
   "metadata": {},
   "outputs": [],
   "source": [
    "search=driver.find_element(By.XPATH,'/html/body/div/div/div/div[2]/div[1]/div[1]/div/div/div/button')\n",
    "search.click()"
   ]
  },
  {
   "cell_type": "code",
   "execution_count": 156,
   "id": "12b6a4c1",
   "metadata": {},
   "outputs": [],
   "source": [
    "location=driver.find_element(By.XPATH,'/html/body/div/div/div/div[2]/div[1]/div[2]/div[1]/div/div/div/div[2]/div[1]')\n",
    "location.click()"
   ]
  },
  {
   "cell_type": "code",
   "execution_count": 157,
   "id": "abdcdc74",
   "metadata": {},
   "outputs": [],
   "source": [
    "searches=driver.find_element(By.XPATH,'/html/body/div/div/div/div[2]/div[1]/div[2]/div[1]/div/div/div/div[2]/div[2]/div/div[2]/input')\n",
    "searches.send_keys('Noida')"
   ]
  },
  {
   "cell_type": "code",
   "execution_count": 158,
   "id": "befa111b",
   "metadata": {},
   "outputs": [],
   "source": [
    "select=driver.find_element(By.XPATH,'/html/body/div/div/div/div[2]/div[1]/div[2]/div[1]/div/div/div/div[2]/div[2]/div/div[3]/div[1]/div[1]/div/label')\n",
    "select.click()"
   ]
  },
  {
   "cell_type": "code",
   "execution_count": 159,
   "id": "d2699a71",
   "metadata": {},
   "outputs": [],
   "source": [
    "company_name=[]\n",
    "job_posted=[]\n",
    "rating=[]"
   ]
  },
  {
   "cell_type": "code",
   "execution_count": 160,
   "id": "3433557c",
   "metadata": {},
   "outputs": [],
   "source": [
    "company=driver.find_elements(By.XPATH,'//a[@class=\"title noclick\"]')\n",
    "for i in company:\n",
    "    company_name.append(i.text)"
   ]
  },
  {
   "cell_type": "code",
   "execution_count": 161,
   "id": "71e8e00f",
   "metadata": {},
   "outputs": [],
   "source": [
    "job=driver.find_elements(By.XPATH,'//span[@class=\"body-small-l\"]')\n",
    "for i in job:\n",
    "    job_posted.append(i.text)"
   ]
  },
  {
   "cell_type": "code",
   "execution_count": 162,
   "id": "b30aae33",
   "metadata": {},
   "outputs": [],
   "source": [
    "ratings=driver.find_elements(By.XPATH,'//span[@class=\"body-small\"]')\n",
    "for i in ratings:\n",
    "    rating.append(i.text)"
   ]
  },
  {
   "cell_type": "code",
   "execution_count": 163,
   "id": "a720bb74",
   "metadata": {},
   "outputs": [
    {
     "data": {
      "text/plain": [
       "['4.0', '4.1', '4.3', '3.8', '4.0', '4.0', '4.0', '4.3', '4.3', '3.8']"
      ]
     },
     "execution_count": 163,
     "metadata": {},
     "output_type": "execute_result"
    }
   ],
   "source": [
    "rating"
   ]
  },
  {
   "cell_type": "code",
   "execution_count": 164,
   "id": "f1ea9afb",
   "metadata": {},
   "outputs": [
    {
     "name": "stdout",
     "output_type": "stream",
     "text": [
      "10 20 10\n"
     ]
    }
   ],
   "source": [
    "print(len(company_name),len(job_posted),len(rating))"
   ]
  },
  {
   "cell_type": "code",
   "execution_count": 165,
   "id": "24144845",
   "metadata": {},
   "outputs": [],
   "source": [
    "job_posted=job_posted[0:20:2]"
   ]
  },
  {
   "cell_type": "code",
   "execution_count": 166,
   "id": "f5df120c",
   "metadata": {},
   "outputs": [
    {
     "data": {
      "text/html": [
       "<div>\n",
       "<style scoped>\n",
       "    .dataframe tbody tr th:only-of-type {\n",
       "        vertical-align: middle;\n",
       "    }\n",
       "\n",
       "    .dataframe tbody tr th {\n",
       "        vertical-align: top;\n",
       "    }\n",
       "\n",
       "    .dataframe thead th {\n",
       "        text-align: right;\n",
       "    }\n",
       "</style>\n",
       "<table border=\"1\" class=\"dataframe\">\n",
       "  <thead>\n",
       "    <tr style=\"text-align: right;\">\n",
       "      <th></th>\n",
       "      <th>COMPANY_NAME</th>\n",
       "      <th>JOB_POSTED</th>\n",
       "      <th>RATING</th>\n",
       "    </tr>\n",
       "  </thead>\n",
       "  <tbody>\n",
       "    <tr>\n",
       "      <th>0</th>\n",
       "      <td>Data Scientist</td>\n",
       "      <td>1min ago</td>\n",
       "      <td>4.0</td>\n",
       "    </tr>\n",
       "    <tr>\n",
       "      <th>1</th>\n",
       "      <td>Quality Engineer</td>\n",
       "      <td>7d ago</td>\n",
       "      <td>4.1</td>\n",
       "    </tr>\n",
       "    <tr>\n",
       "      <th>2</th>\n",
       "      <td>Data Scientist- SAS Analyst</td>\n",
       "      <td>5d ago</td>\n",
       "      <td>4.3</td>\n",
       "    </tr>\n",
       "    <tr>\n",
       "      <th>3</th>\n",
       "      <td>EY GDS - Data Scientist (10-20 yrs)</td>\n",
       "      <td>7d ago</td>\n",
       "      <td>3.8</td>\n",
       "    </tr>\n",
       "    <tr>\n",
       "      <th>4</th>\n",
       "      <td>Data Scientist</td>\n",
       "      <td>5d ago</td>\n",
       "      <td>4.0</td>\n",
       "    </tr>\n",
       "    <tr>\n",
       "      <th>5</th>\n",
       "      <td>Hiring For Genpact-Data Scientist- Forecasting...</td>\n",
       "      <td>27d ago</td>\n",
       "      <td>4.0</td>\n",
       "    </tr>\n",
       "    <tr>\n",
       "      <th>6</th>\n",
       "      <td>Genpact - Data Scientist - Forecasting/Python/...</td>\n",
       "      <td>29d ago</td>\n",
       "      <td>4.0</td>\n",
       "    </tr>\n",
       "    <tr>\n",
       "      <th>7</th>\n",
       "      <td>Data Scientist</td>\n",
       "      <td>1mon ago</td>\n",
       "      <td>4.3</td>\n",
       "    </tr>\n",
       "    <tr>\n",
       "      <th>8</th>\n",
       "      <td>Data Scientist - Machine Learning Algorithms (...</td>\n",
       "      <td>12d ago</td>\n",
       "      <td>4.3</td>\n",
       "    </tr>\n",
       "    <tr>\n",
       "      <th>9</th>\n",
       "      <td>EY - Data Engineer - Data Integration/Modeling...</td>\n",
       "      <td>1mon ago</td>\n",
       "      <td>3.8</td>\n",
       "    </tr>\n",
       "  </tbody>\n",
       "</table>\n",
       "</div>"
      ],
      "text/plain": [
       "                                        COMPANY_NAME JOB_POSTED RATING\n",
       "0                                     Data Scientist   1min ago    4.0\n",
       "1                                   Quality Engineer     7d ago    4.1\n",
       "2                        Data Scientist- SAS Analyst     5d ago    4.3\n",
       "3                EY GDS - Data Scientist (10-20 yrs)     7d ago    3.8\n",
       "4                                     Data Scientist     5d ago    4.0\n",
       "5  Hiring For Genpact-Data Scientist- Forecasting...    27d ago    4.0\n",
       "6  Genpact - Data Scientist - Forecasting/Python/...    29d ago    4.0\n",
       "7                                     Data Scientist   1mon ago    4.3\n",
       "8  Data Scientist - Machine Learning Algorithms (...    12d ago    4.3\n",
       "9  EY - Data Engineer - Data Integration/Modeling...   1mon ago    3.8"
      ]
     },
     "execution_count": 166,
     "metadata": {},
     "output_type": "execute_result"
    }
   ],
   "source": [
    "df=pd.DataFrame({'COMPANY_NAME':company_name,'JOB_POSTED':job_posted,'RATING':rating})\n",
    "df"
   ]
  },
  {
   "cell_type": "code",
   "execution_count": null,
   "id": "b83671f8",
   "metadata": {},
   "outputs": [],
   "source": []
  },
  {
   "cell_type": "markdown",
   "id": "1a57c2b5",
   "metadata": {},
   "source": [
    "# Q.10"
   ]
  },
  {
   "cell_type": "code",
   "execution_count": 167,
   "id": "b661872c",
   "metadata": {},
   "outputs": [],
   "source": [
    "import selenium\n",
    "import pandas as pd\n",
    "from selenium import webdriver\n",
    "from selenium.common.exceptions import StaleElementReferenceException,NoSuchElementException\n",
    "from selenium.webdriver.common.by import By\n",
    "import warnings\n",
    "warnings.filterwarnings('ignore')\n",
    "import time"
   ]
  },
  {
   "cell_type": "code",
   "execution_count": 168,
   "id": "5154750a",
   "metadata": {},
   "outputs": [],
   "source": [
    "driver=webdriver.Chrome(r\"C:\\Users\\singh\\Downloads\\chromedriver_win32\\chromedriver.exe\")"
   ]
  },
  {
   "cell_type": "code",
   "execution_count": 169,
   "id": "b8265be8",
   "metadata": {},
   "outputs": [],
   "source": [
    "driver.get('https://www.ambitionbox.com/')"
   ]
  },
  {
   "cell_type": "code",
   "execution_count": 173,
   "id": "3437d47e",
   "metadata": {},
   "outputs": [],
   "source": [
    "select_salary=driver.find_element(By.XPATH,'/html/body/div/div/div/div[1]/header/nav/ul/li[3]')\n",
    "select_salary.click()"
   ]
  },
  {
   "cell_type": "code",
   "execution_count": 174,
   "id": "d4464028",
   "metadata": {},
   "outputs": [],
   "source": [
    "browse=driver.find_element(By.XPATH,'/html/body/div/div/div/div[1]/header/nav/ul/li[3]/div/ul/li[1]/div')\n",
    "browse.click()"
   ]
  },
  {
   "cell_type": "code",
   "execution_count": 175,
   "id": "8de5c1ff",
   "metadata": {},
   "outputs": [],
   "source": [
    "designation=driver.find_element(By.XPATH,'/html/body/div/div/div/main/section[1]/div[2]/div[1]/span/input')\n",
    "designation.send_keys('Data Scientist')\n",
    "designation.click()"
   ]
  },
  {
   "cell_type": "code",
   "execution_count": 176,
   "id": "d5dc051f",
   "metadata": {},
   "outputs": [],
   "source": [
    "search=driver.find_element(By.XPATH,'/html/body/div/div/div/main/section[1]/div[2]/div[1]/span/div/div/div[1]/div/div/p')\n",
    "search.click()"
   ]
  },
  {
   "cell_type": "code",
   "execution_count": 177,
   "id": "da142aca",
   "metadata": {},
   "outputs": [],
   "source": [
    "company=[]\n",
    "companies=driver.find_elements(By.XPATH,'//div[@class=\"company-info\"]/a')\n",
    "for i in companies:\n",
    "    company.append(i.text)"
   ]
  },
  {
   "cell_type": "code",
   "execution_count": 178,
   "id": "14278679",
   "metadata": {},
   "outputs": [
    {
     "data": {
      "text/plain": [
       "['Walmart\\nData Scientist Salary',\n",
       " 'Ab Inbev\\nData Scientist Salary',\n",
       " 'Optum\\nData Scientist Salary',\n",
       " 'ZS\\nData Scientist Salary',\n",
       " 'Fractal Analytics\\nData Scientist Salary',\n",
       " 'Tiger Analytics\\nData Scientist Salary',\n",
       " 'Sigmoid Analytics\\nData Scientist Salary',\n",
       " 'Legato Health Technologies\\nData Scientist Salary',\n",
       " 'HSBC\\nData Scientist Salary',\n",
       " 'Tredence\\nData Scientist Salary']"
      ]
     },
     "execution_count": 178,
     "metadata": {},
     "output_type": "execute_result"
    }
   ],
   "source": [
    "company"
   ]
  },
  {
   "cell_type": "code",
   "execution_count": 179,
   "id": "00148116",
   "metadata": {},
   "outputs": [],
   "source": [
    "salary=[]\n",
    "salaries=driver.find_elements(By.XPATH,'//span[@class=\"datapoints\"]')\n",
    "for i in salaries:\n",
    "    salary.append(i.text)"
   ]
  },
  {
   "cell_type": "code",
   "execution_count": 180,
   "id": "48dff92b",
   "metadata": {},
   "outputs": [
    {
     "data": {
      "text/plain": [
       "['(based on 23 salaries)',\n",
       " '(based on 57 salaries)',\n",
       " '(based on 49 salaries)',\n",
       " '(based on 34 salaries)',\n",
       " '(based on 115 salaries)',\n",
       " '(based on 68 salaries)',\n",
       " '(based on 10 salaries)',\n",
       " '(based on 11 salaries)',\n",
       " '(based on 10 salaries)',\n",
       " '(based on 14 salaries)']"
      ]
     },
     "execution_count": 180,
     "metadata": {},
     "output_type": "execute_result"
    }
   ],
   "source": [
    "salary"
   ]
  },
  {
   "cell_type": "code",
   "execution_count": 181,
   "id": "a722fadd",
   "metadata": {},
   "outputs": [],
   "source": [
    "avg_salary=[]\n",
    "a=driver.find_elements(By.XPATH,'//p[@class=\"averageCtc\"]')\n",
    "for i in a:\n",
    "    avg_salary.append(i.text)"
   ]
  },
  {
   "cell_type": "code",
   "execution_count": 182,
   "id": "afb8efa2",
   "metadata": {},
   "outputs": [
    {
     "data": {
      "text/plain": [
       "['₹ 32.3L',\n",
       " '₹ 19.9L',\n",
       " '₹ 16.4L',\n",
       " '₹ 15.8L',\n",
       " '₹ 15.4L',\n",
       " '₹ 14.7L',\n",
       " '₹ 14.7L',\n",
       " '₹ 14.5L',\n",
       " '₹ 14.0L',\n",
       " '₹ 13.9L']"
      ]
     },
     "execution_count": 182,
     "metadata": {},
     "output_type": "execute_result"
    }
   ],
   "source": [
    "avg_salary"
   ]
  },
  {
   "cell_type": "code",
   "execution_count": 183,
   "id": "f915a187",
   "metadata": {},
   "outputs": [],
   "source": [
    "min_salary=[]\n",
    "b=driver.find_elements(By.XPATH,'//div[@class=\"value body-medium\"]')\n",
    "for i in b:\n",
    "    min_salary.append(i.text)"
   ]
  },
  {
   "cell_type": "code",
   "execution_count": 184,
   "id": "bdb77384",
   "metadata": {},
   "outputs": [
    {
     "data": {
      "text/plain": [
       "['₹ 25.0L',\n",
       " '₹ 45.0L',\n",
       " '₹ 15.0L',\n",
       " '₹ 26.0L',\n",
       " '₹ 11.0L',\n",
       " '₹ 22.6L',\n",
       " '₹ 11.0L',\n",
       " '₹ 22.0L',\n",
       " '₹ 9.0L',\n",
       " '₹ 23.0L',\n",
       " '₹ 9.0L',\n",
       " '₹ 20.0L',\n",
       " '₹ 12.7L',\n",
       " '₹ 19.7L',\n",
       " '₹ 11.0L',\n",
       " '₹ 20.0L',\n",
       " '₹ 12.0L',\n",
       " '₹ 18.0L',\n",
       " '₹ 8.8L',\n",
       " '₹ 17.5L']"
      ]
     },
     "execution_count": 184,
     "metadata": {},
     "output_type": "execute_result"
    }
   ],
   "source": [
    "min_salary"
   ]
  },
  {
   "cell_type": "code",
   "execution_count": 185,
   "id": "2c30a0ed",
   "metadata": {},
   "outputs": [],
   "source": [
    "maximum=[]\n",
    "max_salary=driver.find_elements(By.XPATH,'//div[@class=\"value body-medium\"]')\n",
    "for i in max_salary:\n",
    "    maximum.append(i.text)"
   ]
  },
  {
   "cell_type": "code",
   "execution_count": 186,
   "id": "db62fb0c",
   "metadata": {},
   "outputs": [
    {
     "data": {
      "text/plain": [
       "['₹ 25.0L',\n",
       " '₹ 45.0L',\n",
       " '₹ 15.0L',\n",
       " '₹ 26.0L',\n",
       " '₹ 11.0L',\n",
       " '₹ 22.6L',\n",
       " '₹ 11.0L',\n",
       " '₹ 22.0L',\n",
       " '₹ 9.0L',\n",
       " '₹ 23.0L',\n",
       " '₹ 9.0L',\n",
       " '₹ 20.0L',\n",
       " '₹ 12.7L',\n",
       " '₹ 19.7L',\n",
       " '₹ 11.0L',\n",
       " '₹ 20.0L',\n",
       " '₹ 12.0L',\n",
       " '₹ 18.0L',\n",
       " '₹ 8.8L',\n",
       " '₹ 17.5L']"
      ]
     },
     "execution_count": 186,
     "metadata": {},
     "output_type": "execute_result"
    }
   ],
   "source": [
    "maximum"
   ]
  },
  {
   "cell_type": "code",
   "execution_count": 187,
   "id": "89498e61",
   "metadata": {},
   "outputs": [],
   "source": [
    "exp=[]\n",
    "r=driver.find_elements(By.XPATH,'//div[@class=\"sbold-list-header\"]')\n",
    "for i in r:\n",
    "    exp.append(i.text.split('\\n')[-1].split('(')[0].strip(' '))"
   ]
  },
  {
   "cell_type": "code",
   "execution_count": 188,
   "id": "a44399f6",
   "metadata": {},
   "outputs": [
    {
     "data": {
      "text/plain": [
       "['3-4 yrs experience',\n",
       " '2-4 yrs experience',\n",
       " '2-4 yrs experience',\n",
       " '1-2 yrs experience',\n",
       " '2-4 yrs experience',\n",
       " '2-4 yrs experience',\n",
       " '1 yr experience',\n",
       " '4 yrs experience',\n",
       " '4 yrs experience',\n",
       " '3 yrs experience']"
      ]
     },
     "execution_count": 188,
     "metadata": {},
     "output_type": "execute_result"
    }
   ],
   "source": [
    "exp"
   ]
  },
  {
   "cell_type": "code",
   "execution_count": 189,
   "id": "08289684",
   "metadata": {},
   "outputs": [
    {
     "name": "stdout",
     "output_type": "stream",
     "text": [
      "10 10 10 20 20 10\n"
     ]
    }
   ],
   "source": [
    "print(len(company),len(salary),len(avg_salary),len(min_salary),len(maximum),len(exp))"
   ]
  },
  {
   "cell_type": "code",
   "execution_count": 190,
   "id": "b2f2af49",
   "metadata": {},
   "outputs": [
    {
     "data": {
      "text/html": [
       "<div>\n",
       "<style scoped>\n",
       "    .dataframe tbody tr th:only-of-type {\n",
       "        vertical-align: middle;\n",
       "    }\n",
       "\n",
       "    .dataframe tbody tr th {\n",
       "        vertical-align: top;\n",
       "    }\n",
       "\n",
       "    .dataframe thead th {\n",
       "        text-align: right;\n",
       "    }\n",
       "</style>\n",
       "<table border=\"1\" class=\"dataframe\">\n",
       "  <thead>\n",
       "    <tr style=\"text-align: right;\">\n",
       "      <th></th>\n",
       "      <th>COMPANY_NAME</th>\n",
       "      <th>TOTAL_SALARY_RECORD</th>\n",
       "      <th>EXP.REQUIRED</th>\n",
       "      <th>AVERAGE_SALARY</th>\n",
       "      <th>MINIMUM_SALARY</th>\n",
       "      <th>MAXIMUM_SALARY</th>\n",
       "    </tr>\n",
       "  </thead>\n",
       "  <tbody>\n",
       "    <tr>\n",
       "      <th>0</th>\n",
       "      <td>Walmart\\nData Scientist Salary</td>\n",
       "      <td>(based on 23 salaries)</td>\n",
       "      <td>3-4 yrs experience</td>\n",
       "      <td>₹ 32.3L</td>\n",
       "      <td>₹ 25.0L</td>\n",
       "      <td>₹ 25.0L</td>\n",
       "    </tr>\n",
       "    <tr>\n",
       "      <th>1</th>\n",
       "      <td>Ab Inbev\\nData Scientist Salary</td>\n",
       "      <td>(based on 57 salaries)</td>\n",
       "      <td>2-4 yrs experience</td>\n",
       "      <td>₹ 19.9L</td>\n",
       "      <td>₹ 45.0L</td>\n",
       "      <td>₹ 45.0L</td>\n",
       "    </tr>\n",
       "    <tr>\n",
       "      <th>2</th>\n",
       "      <td>Optum\\nData Scientist Salary</td>\n",
       "      <td>(based on 49 salaries)</td>\n",
       "      <td>2-4 yrs experience</td>\n",
       "      <td>₹ 16.4L</td>\n",
       "      <td>₹ 15.0L</td>\n",
       "      <td>₹ 15.0L</td>\n",
       "    </tr>\n",
       "    <tr>\n",
       "      <th>3</th>\n",
       "      <td>ZS\\nData Scientist Salary</td>\n",
       "      <td>(based on 34 salaries)</td>\n",
       "      <td>1-2 yrs experience</td>\n",
       "      <td>₹ 15.8L</td>\n",
       "      <td>₹ 26.0L</td>\n",
       "      <td>₹ 26.0L</td>\n",
       "    </tr>\n",
       "    <tr>\n",
       "      <th>4</th>\n",
       "      <td>Fractal Analytics\\nData Scientist Salary</td>\n",
       "      <td>(based on 115 salaries)</td>\n",
       "      <td>2-4 yrs experience</td>\n",
       "      <td>₹ 15.4L</td>\n",
       "      <td>₹ 11.0L</td>\n",
       "      <td>₹ 11.0L</td>\n",
       "    </tr>\n",
       "    <tr>\n",
       "      <th>5</th>\n",
       "      <td>Tiger Analytics\\nData Scientist Salary</td>\n",
       "      <td>(based on 68 salaries)</td>\n",
       "      <td>2-4 yrs experience</td>\n",
       "      <td>₹ 14.7L</td>\n",
       "      <td>₹ 22.6L</td>\n",
       "      <td>₹ 22.6L</td>\n",
       "    </tr>\n",
       "    <tr>\n",
       "      <th>6</th>\n",
       "      <td>Sigmoid Analytics\\nData Scientist Salary</td>\n",
       "      <td>(based on 10 salaries)</td>\n",
       "      <td>1 yr experience</td>\n",
       "      <td>₹ 14.7L</td>\n",
       "      <td>₹ 11.0L</td>\n",
       "      <td>₹ 11.0L</td>\n",
       "    </tr>\n",
       "    <tr>\n",
       "      <th>7</th>\n",
       "      <td>Legato Health Technologies\\nData Scientist Salary</td>\n",
       "      <td>(based on 11 salaries)</td>\n",
       "      <td>4 yrs experience</td>\n",
       "      <td>₹ 14.5L</td>\n",
       "      <td>₹ 22.0L</td>\n",
       "      <td>₹ 22.0L</td>\n",
       "    </tr>\n",
       "    <tr>\n",
       "      <th>8</th>\n",
       "      <td>HSBC\\nData Scientist Salary</td>\n",
       "      <td>(based on 10 salaries)</td>\n",
       "      <td>4 yrs experience</td>\n",
       "      <td>₹ 14.0L</td>\n",
       "      <td>₹ 9.0L</td>\n",
       "      <td>₹ 9.0L</td>\n",
       "    </tr>\n",
       "    <tr>\n",
       "      <th>9</th>\n",
       "      <td>Tredence\\nData Scientist Salary</td>\n",
       "      <td>(based on 14 salaries)</td>\n",
       "      <td>3 yrs experience</td>\n",
       "      <td>₹ 13.9L</td>\n",
       "      <td>₹ 23.0L</td>\n",
       "      <td>₹ 23.0L</td>\n",
       "    </tr>\n",
       "  </tbody>\n",
       "</table>\n",
       "</div>"
      ],
      "text/plain": [
       "                                        COMPANY_NAME      TOTAL_SALARY_RECORD  \\\n",
       "0                     Walmart\\nData Scientist Salary   (based on 23 salaries)   \n",
       "1                    Ab Inbev\\nData Scientist Salary   (based on 57 salaries)   \n",
       "2                       Optum\\nData Scientist Salary   (based on 49 salaries)   \n",
       "3                          ZS\\nData Scientist Salary   (based on 34 salaries)   \n",
       "4           Fractal Analytics\\nData Scientist Salary  (based on 115 salaries)   \n",
       "5             Tiger Analytics\\nData Scientist Salary   (based on 68 salaries)   \n",
       "6           Sigmoid Analytics\\nData Scientist Salary   (based on 10 salaries)   \n",
       "7  Legato Health Technologies\\nData Scientist Salary   (based on 11 salaries)   \n",
       "8                        HSBC\\nData Scientist Salary   (based on 10 salaries)   \n",
       "9                    Tredence\\nData Scientist Salary   (based on 14 salaries)   \n",
       "\n",
       "         EXP.REQUIRED AVERAGE_SALARY MINIMUM_SALARY MAXIMUM_SALARY  \n",
       "0  3-4 yrs experience        ₹ 32.3L        ₹ 25.0L        ₹ 25.0L  \n",
       "1  2-4 yrs experience        ₹ 19.9L        ₹ 45.0L        ₹ 45.0L  \n",
       "2  2-4 yrs experience        ₹ 16.4L        ₹ 15.0L        ₹ 15.0L  \n",
       "3  1-2 yrs experience        ₹ 15.8L        ₹ 26.0L        ₹ 26.0L  \n",
       "4  2-4 yrs experience        ₹ 15.4L        ₹ 11.0L        ₹ 11.0L  \n",
       "5  2-4 yrs experience        ₹ 14.7L        ₹ 22.6L        ₹ 22.6L  \n",
       "6     1 yr experience        ₹ 14.7L        ₹ 11.0L        ₹ 11.0L  \n",
       "7    4 yrs experience        ₹ 14.5L        ₹ 22.0L        ₹ 22.0L  \n",
       "8    4 yrs experience        ₹ 14.0L         ₹ 9.0L         ₹ 9.0L  \n",
       "9    3 yrs experience        ₹ 13.9L        ₹ 23.0L        ₹ 23.0L  "
      ]
     },
     "execution_count": 190,
     "metadata": {},
     "output_type": "execute_result"
    }
   ],
   "source": [
    "df=pd.DataFrame({'COMPANY_NAME':company[:10],'TOTAL_SALARY_RECORD':salary[:10],'EXP.REQUIRED':exp[:10],'AVERAGE_SALARY':avg_salary[:10],'MINIMUM_SALARY':min_salary[:10],'MAXIMUM_SALARY':maximum[:10],})\n",
    "df"
   ]
  },
  {
   "cell_type": "code",
   "execution_count": null,
   "id": "7597354f",
   "metadata": {},
   "outputs": [],
   "source": []
  }
 ],
 "metadata": {
  "kernelspec": {
   "display_name": "Python 3 (ipykernel)",
   "language": "python",
   "name": "python3"
  },
  "language_info": {
   "codemirror_mode": {
    "name": "ipython",
    "version": 3
   },
   "file_extension": ".py",
   "mimetype": "text/x-python",
   "name": "python",
   "nbconvert_exporter": "python",
   "pygments_lexer": "ipython3",
   "version": "3.9.7"
  }
 },
 "nbformat": 4,
 "nbformat_minor": 5
}
