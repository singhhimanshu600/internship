{
 "cells": [
  {
   "cell_type": "markdown",
   "id": "c0201b9e",
   "metadata": {},
   "source": [
    "#                 Machine Learning"
   ]
  },
  {
   "cell_type": "markdown",
   "id": "b81076c4",
   "metadata": {},
   "source": [
    "### Ans.1--> A"
   ]
  },
  {
   "cell_type": "markdown",
   "id": "64d8dcca",
   "metadata": {},
   "source": [
    "### Ans.2-->D"
   ]
  },
  {
   "cell_type": "markdown",
   "id": "246fa3c0",
   "metadata": {},
   "source": [
    "### Ans.3-->A"
   ]
  },
  {
   "cell_type": "markdown",
   "id": "1a6afae2",
   "metadata": {},
   "source": [
    "### Ans.4-->A"
   ]
  },
  {
   "cell_type": "markdown",
   "id": "3db52904",
   "metadata": {},
   "source": [
    "### Ans.5-->B"
   ]
  },
  {
   "cell_type": "markdown",
   "id": "b2d94084",
   "metadata": {},
   "source": [
    "### Ans.6-->B"
   ]
  },
  {
   "cell_type": "markdown",
   "id": "5af35cc4",
   "metadata": {},
   "source": [
    "### Ans.7-->A"
   ]
  },
  {
   "cell_type": "markdown",
   "id": "4523efb7",
   "metadata": {},
   "source": [
    "### Ans.8-->D"
   ]
  },
  {
   "cell_type": "markdown",
   "id": "b71b4b8e",
   "metadata": {},
   "source": [
    "### Ans.9-->A"
   ]
  },
  {
   "cell_type": "markdown",
   "id": "4b423c92",
   "metadata": {},
   "source": [
    "### Ans.10-->D"
   ]
  },
  {
   "cell_type": "markdown",
   "id": "448b31af",
   "metadata": {},
   "source": [
    "### Ans.11-->D"
   ]
  },
  {
   "cell_type": "markdown",
   "id": "e29ec13c",
   "metadata": {},
   "source": [
    "### Ans-->12\n",
    "        Yes,K can sensitive to outliers in your data set. The reason is simple that K-means tries to optimize the sum of squares.And thus a large deviation(such as of an outlier)gets a lot of weight.K-Nearest Neighbours (KNN) Algorithm is sensitive to outliers, since a single mislabeled example dramatically changes the class boundaries. Anomalies affect the method significantly, because k-NN gets all the information from the input, rather than from an algorithm that tries to generalize data."
   ]
  },
  {
   "cell_type": "markdown",
   "id": "497e1395",
   "metadata": {},
   "source": [
    "### Ans.-->13\n",
    "         The K-means clustering algorithm is used to find groups which have not been explicitly labeled in the data. This can be used to confirm business assumptions about what types of groups exist or to identify unknown groups in complex data sets.K-Means clustering is an unsupervised learning algorithm. There is no labeled data for this clustering, unlike in supervised learning. K-Means performs the division of objects into clusters that share similarities and are dissimilar to the objects belonging to another cluster. "
   ]
  },
  {
   "cell_type": "markdown",
   "id": "5b20732d",
   "metadata": {},
   "source": [
    "### Ans.-->14\n",
    "         K-Means is a non-deterministic algorithm. This means that a compiler cannot solve the problem in polynomial time and doesn’t clearly know the next step. This is because some problems have a great degree of randomness to them. These algorithms usually have 2 steps — 1)Guessing step 2)Assignment step. On similar lines is the K-means algorithm.All the algorithms, by definition, are deterministic given their inputs. Any algorithm that uses pseudo-random numbers is deterministic given the seed. K-means, that you used as example, starts with randomly chosen cluster centroids so to find optimal ones."
   ]
  },
  {
   "cell_type": "code",
   "execution_count": null,
   "id": "14690f9d",
   "metadata": {},
   "outputs": [],
   "source": []
  },
  {
   "cell_type": "markdown",
   "id": "b85cb8ec",
   "metadata": {},
   "source": [
    "# WORKSHEET SQL"
   ]
  },
  {
   "cell_type": "markdown",
   "id": "312e51af",
   "metadata": {},
   "source": [
    "# Ans.1-->D"
   ]
  },
  {
   "cell_type": "markdown",
   "id": "37d39147",
   "metadata": {},
   "source": [
    "# Ans.2-->A"
   ]
  },
  {
   "cell_type": "markdown",
   "id": "c8b113cf",
   "metadata": {},
   "source": [
    "# Ans.3-->A"
   ]
  },
  {
   "cell_type": "markdown",
   "id": "a8956fa8",
   "metadata": {},
   "source": [
    "# Ans.4-->B"
   ]
  },
  {
   "cell_type": "markdown",
   "id": "56998526",
   "metadata": {},
   "source": [
    "# Ans.5-->B"
   ]
  },
  {
   "cell_type": "markdown",
   "id": "600d3ffd",
   "metadata": {},
   "source": [
    "# Ans.6-->c"
   ]
  },
  {
   "cell_type": "markdown",
   "id": "85599e1e",
   "metadata": {},
   "source": [
    "# Ans.7-->B"
   ]
  },
  {
   "cell_type": "markdown",
   "id": "e8e93d0a",
   "metadata": {},
   "source": [
    "# Ans.8-->c"
   ]
  },
  {
   "cell_type": "markdown",
   "id": "ab15dbcb",
   "metadata": {},
   "source": [
    "# Ans.9-->A"
   ]
  },
  {
   "cell_type": "markdown",
   "id": "fb6e50d0",
   "metadata": {},
   "source": [
    "# Ans.10-->C"
   ]
  },
  {
   "cell_type": "markdown",
   "id": "967758ea",
   "metadata": {},
   "source": [
    "# Ans.11-->C"
   ]
  },
  {
   "cell_type": "markdown",
   "id": "a5ddf0d7",
   "metadata": {},
   "source": [
    "# Ans.12-->B"
   ]
  },
  {
   "cell_type": "markdown",
   "id": "2077b7f7",
   "metadata": {},
   "source": [
    "# Ans.13-->A"
   ]
  },
  {
   "cell_type": "markdown",
   "id": "d9a571f1",
   "metadata": {},
   "source": [
    "# Ans.14-->B,C"
   ]
  },
  {
   "cell_type": "markdown",
   "id": "99dec172",
   "metadata": {},
   "source": [
    "# Ans.15-->B,C"
   ]
  },
  {
   "cell_type": "code",
   "execution_count": null,
   "id": "f7a50a2b",
   "metadata": {},
   "outputs": [],
   "source": []
  },
  {
   "cell_type": "markdown",
   "id": "17ea6677",
   "metadata": {},
   "source": [
    "# STATISTICS"
   ]
  },
  {
   "cell_type": "markdown",
   "id": "5db3ff82",
   "metadata": {},
   "source": [
    "# Ans.1-->A"
   ]
  },
  {
   "cell_type": "markdown",
   "id": "1b457552",
   "metadata": {},
   "source": [
    "# Ans.2-->C"
   ]
  },
  {
   "cell_type": "markdown",
   "id": "ebd12274",
   "metadata": {},
   "source": [
    "# Ans.3-->D"
   ]
  },
  {
   "cell_type": "markdown",
   "id": "91d401cb",
   "metadata": {},
   "source": [
    "# Ans.4-->c"
   ]
  },
  {
   "cell_type": "markdown",
   "id": "38813c4b",
   "metadata": {},
   "source": [
    "# Ans.5-->B"
   ]
  },
  {
   "cell_type": "markdown",
   "id": "9c64cd58",
   "metadata": {},
   "source": [
    "# Ans.6-->B"
   ]
  },
  {
   "cell_type": "markdown",
   "id": "adde4355",
   "metadata": {},
   "source": [
    "# Ans.7-->D"
   ]
  },
  {
   "cell_type": "markdown",
   "id": "e1513421",
   "metadata": {},
   "source": [
    "# Ans.8-->B"
   ]
  },
  {
   "cell_type": "markdown",
   "id": "b38f5282",
   "metadata": {},
   "source": [
    "# Ans.9-->D"
   ]
  },
  {
   "cell_type": "markdown",
   "id": "4c45e9c3",
   "metadata": {},
   "source": [
    "# Ans.10-->A"
   ]
  },
  {
   "cell_type": "markdown",
   "id": "3c860a18",
   "metadata": {},
   "source": [
    "# Ans.11-->C"
   ]
  },
  {
   "cell_type": "markdown",
   "id": "2a5f0212",
   "metadata": {},
   "source": [
    "# Ans.12-->D"
   ]
  },
  {
   "cell_type": "markdown",
   "id": "41c3edfc",
   "metadata": {},
   "source": [
    "# Ans.13-->D"
   ]
  },
  {
   "cell_type": "markdown",
   "id": "021d796e",
   "metadata": {},
   "source": [
    "# Ans.14-->A"
   ]
  },
  {
   "cell_type": "markdown",
   "id": "a98522cf",
   "metadata": {},
   "source": [
    "# Ans.15-->D"
   ]
  },
  {
   "cell_type": "code",
   "execution_count": null,
   "id": "73733ef4",
   "metadata": {},
   "outputs": [],
   "source": []
  }
 ],
 "metadata": {
  "kernelspec": {
   "display_name": "Python 3 (ipykernel)",
   "language": "python",
   "name": "python3"
  },
  "language_info": {
   "codemirror_mode": {
    "name": "ipython",
    "version": 3
   },
   "file_extension": ".py",
   "mimetype": "text/x-python",
   "name": "python",
   "nbconvert_exporter": "python",
   "pygments_lexer": "ipython3",
   "version": "3.9.7"
  }
 },
 "nbformat": 4,
 "nbformat_minor": 5
}
