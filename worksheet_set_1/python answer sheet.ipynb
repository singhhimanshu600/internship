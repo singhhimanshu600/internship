{
 "cells": [
  {
   "cell_type": "markdown",
   "id": "67ccc4fb",
   "metadata": {},
   "source": [
    "# PYTHON ALL ANSWERS\n",
    "\n",
    "Ans.1-->C\n",
    "\n",
    "Ans.2-->A\n",
    "\n",
    "Ans.3-->C\n",
    "\n",
    "Ans.4-->D\n",
    "\n",
    "Ans.5-->D\n",
    "\n",
    "Ans.6-->C\n",
    "\n",
    "Ans.7-->A\n",
    "\n",
    "Ans.8-->C"
   ]
  },
  {
   "cell_type": "markdown",
   "id": "6487e868",
   "metadata": {},
   "source": [
    "# Ans.11"
   ]
  },
  {
   "cell_type": "code",
   "execution_count": 27,
   "id": "bc0405a7",
   "metadata": {},
   "outputs": [
    {
     "name": "stdout",
     "output_type": "stream",
     "text": [
      "facorial 120\n"
     ]
    }
   ],
   "source": [
    "i=5\n",
    "fac=1\n",
    "while i>0:\n",
    "    fac=fac*i\n",
    "    i=i-1\n",
    "print(\"facorial\",fac)"
   ]
  },
  {
   "cell_type": "markdown",
   "id": "716013b3",
   "metadata": {},
   "source": [
    "# Ans.12"
   ]
  },
  {
   "cell_type": "code",
   "execution_count": 2,
   "id": "32b37cf6",
   "metadata": {},
   "outputs": [
    {
     "name": "stdout",
     "output_type": "stream",
     "text": [
      "Prime Number\n"
     ]
    }
   ],
   "source": [
    "n=11\n",
    "count=0\n",
    "i=1\n",
    "while(i<=n):\n",
    "    if(n%i==0):\n",
    "        count=count+1\n",
    "    i=i+1\n",
    "if(count==2):\n",
    "    print(\"Prime Number\")\n",
    "else:\n",
    "    print(\"Composite Number\")"
   ]
  },
  {
   "cell_type": "markdown",
   "id": "188de0ef",
   "metadata": {},
   "source": [
    "# Ans.13"
   ]
  },
  {
   "cell_type": "code",
   "execution_count": 3,
   "id": "23570639",
   "metadata": {},
   "outputs": [
    {
     "name": "stdout",
     "output_type": "stream",
     "text": [
      "Not Palindrome String\n"
     ]
    }
   ],
   "source": [
    "a=(\"himanshu\")\n",
    "b=a[-1::-1]\n",
    "if(a==b):\n",
    "    print(\"Palindrome String\")\n",
    "else:\n",
    "    print(\"Not Palindrome String\")"
   ]
  },
  {
   "cell_type": "markdown",
   "id": "31f158c7",
   "metadata": {},
   "source": [
    "# Ans.14"
   ]
  },
  {
   "cell_type": "code",
   "execution_count": 12,
   "id": "def28f47",
   "metadata": {},
   "outputs": [
    {
     "name": "stdout",
     "output_type": "stream",
     "text": [
      "The length of shorter triangle side 5.0\n"
     ]
    }
   ],
   "source": [
    "from math import sqrt\n",
    "a=3\n",
    "b=4\n",
    "c=sqrt(a**2+b**2)\n",
    "print(\"The length of shorter triangle side\",c)"
   ]
  },
  {
   "cell_type": "markdown",
   "id": "e88e0b58",
   "metadata": {},
   "source": [
    "# Ans.15"
   ]
  },
  {
   "cell_type": "code",
   "execution_count": 20,
   "id": "52d440b6",
   "metadata": {},
   "outputs": [
    {
     "name": "stdout",
     "output_type": "stream",
     "text": [
      "True\n"
     ]
    }
   ],
   "source": [
    "d1 = {'jan':1, 'april':4,'august':8}\n",
    "print ('jan' in d1)"
   ]
  },
  {
   "cell_type": "code",
   "execution_count": 21,
   "id": "591731ae",
   "metadata": {},
   "outputs": [
    {
     "name": "stdout",
     "output_type": "stream",
     "text": [
      "False\n"
     ]
    }
   ],
   "source": [
    "print('feb'in d1)"
   ]
  },
  {
   "cell_type": "code",
   "execution_count": 26,
   "id": "2a78d5f1",
   "metadata": {},
   "outputs": [
    {
     "name": "stdout",
     "output_type": "stream",
     "text": [
      "{'V': 3, 'T': 3, 'U': 2, 'B': 2, 'G': 1, 'M': 1}\n"
     ]
    }
   ],
   "source": [
    "str1=('VTUVTUBGMBVT')\n",
    "d1=dict()\n",
    "for c in str1:\n",
    "    if c in d1:\n",
    "        d1[c] = d1[c]+1\n",
    "    else:\n",
    "        d1[c] = 1\n",
    "print(d1)"
   ]
  },
  {
   "cell_type": "code",
   "execution_count": null,
   "id": "754d4543",
   "metadata": {},
   "outputs": [],
   "source": []
  },
  {
   "cell_type": "code",
   "execution_count": null,
   "id": "49b6353a",
   "metadata": {},
   "outputs": [],
   "source": []
  }
 ],
 "metadata": {
  "kernelspec": {
   "display_name": "Python 3 (ipykernel)",
   "language": "python",
   "name": "python3"
  },
  "language_info": {
   "codemirror_mode": {
    "name": "ipython",
    "version": 3
   },
   "file_extension": ".py",
   "mimetype": "text/x-python",
   "name": "python",
   "nbconvert_exporter": "python",
   "pygments_lexer": "ipython3",
   "version": "3.9.7"
  }
 },
 "nbformat": 4,
 "nbformat_minor": 5
}
